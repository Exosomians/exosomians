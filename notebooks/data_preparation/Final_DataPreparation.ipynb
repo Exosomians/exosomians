{
 "cells": [
  {
   "cell_type": "markdown",
   "metadata": {},
   "source": [
    "# Data preparation for Final dataset"
   ]
  },
  {
   "cell_type": "code",
   "execution_count": 1,
   "metadata": {},
   "outputs": [],
   "source": [
    "import os\n",
    "os.chdir(\"../../\")"
   ]
  },
  {
   "cell_type": "code",
   "execution_count": 2,
   "metadata": {},
   "outputs": [
    {
     "name": "stderr",
     "output_type": "stream",
     "text": [
      "Using TensorFlow backend.\n"
     ]
    }
   ],
   "source": [
    "import exoNet\n",
    "import pandas as pd\n",
    "import numpy as np"
   ]
  },
  {
   "cell_type": "code",
   "execution_count": 3,
   "metadata": {},
   "outputs": [],
   "source": [
    "data_name = \"final\""
   ]
  },
  {
   "cell_type": "code",
   "execution_count": 5,
   "metadata": {},
   "outputs": [
    {
     "data": {
      "text/html": [
       "<div>\n",
       "<style scoped>\n",
       "    .dataframe tbody tr th:only-of-type {\n",
       "        vertical-align: middle;\n",
       "    }\n",
       "\n",
       "    .dataframe tbody tr th {\n",
       "        vertical-align: top;\n",
       "    }\n",
       "\n",
       "    .dataframe thead th {\n",
       "        text-align: right;\n",
       "    }\n",
       "</style>\n",
       "<table border=\"1\" class=\"dataframe\">\n",
       "  <thead>\n",
       "    <tr style=\"text-align: right;\">\n",
       "      <th></th>\n",
       "      <th>seq</th>\n",
       "      <th>dotbracket</th>\n",
       "      <th>element_string</th>\n",
       "      <th>element_string_number</th>\n",
       "    </tr>\n",
       "    <tr>\n",
       "      <th>id</th>\n",
       "      <th></th>\n",
       "      <th></th>\n",
       "      <th></th>\n",
       "      <th></th>\n",
       "    </tr>\n",
       "  </thead>\n",
       "  <tbody>\n",
       "    <tr>\n",
       "      <th>chr1_10140_10163_+_ev</th>\n",
       "      <td>UGGGAUUGGGGAUUGGGAUUGGGA</td>\n",
       "      <td>........................</td>\n",
       "      <td>ffffffffffffffffffffffff</td>\n",
       "      <td>0</td>\n",
       "    </tr>\n",
       "    <tr>\n",
       "      <th>chr1_10320_10341_+_ev</th>\n",
       "      <td>GGUUGGGAUUGGGGAUUGGGAU</td>\n",
       "      <td>......................</td>\n",
       "      <td>ffffffffffffffffffffff</td>\n",
       "      <td>0</td>\n",
       "    </tr>\n",
       "    <tr>\n",
       "      <th>chr1_10381_10400_+_ev</th>\n",
       "      <td>AUUGGGAUUGGGGAUUGGGG</td>\n",
       "      <td>....................</td>\n",
       "      <td>ffffffffffffffffffff</td>\n",
       "      <td>0</td>\n",
       "    </tr>\n",
       "    <tr>\n",
       "      <th>chr1_10496_10524_+_ev</th>\n",
       "      <td>GGCCCAGACUGGACUCCUCUUGACACGAG</td>\n",
       "      <td>((.(((...)))...))............</td>\n",
       "      <td>ssissshhhsssiiisstttttttttttt</td>\n",
       "      <td>11100011100000000262799360</td>\n",
       "    </tr>\n",
       "    <tr>\n",
       "      <th>chr1_10749_10778_+_ev</th>\n",
       "      <td>GCGGCGCGGCCGCGUCCGCGUCUCUCCGCG</td>\n",
       "      <td>(((((((((......))))).....)))).</td>\n",
       "      <td>ssssssssshhhhhhsssssiiiiisssst</td>\n",
       "      <td>11111000000111111032537088</td>\n",
       "    </tr>\n",
       "  </tbody>\n",
       "</table>\n",
       "</div>"
      ],
      "text/plain": [
       "                                                  seq  \\\n",
       "id                                                      \n",
       "chr1_10140_10163_+_ev        UGGGAUUGGGGAUUGGGAUUGGGA   \n",
       "chr1_10320_10341_+_ev          GGUUGGGAUUGGGGAUUGGGAU   \n",
       "chr1_10381_10400_+_ev            AUUGGGAUUGGGGAUUGGGG   \n",
       "chr1_10496_10524_+_ev   GGCCCAGACUGGACUCCUCUUGACACGAG   \n",
       "chr1_10749_10778_+_ev  GCGGCGCGGCCGCGUCCGCGUCUCUCCGCG   \n",
       "\n",
       "                                           dotbracket  \\\n",
       "id                                                      \n",
       "chr1_10140_10163_+_ev        ........................   \n",
       "chr1_10320_10341_+_ev          ......................   \n",
       "chr1_10381_10400_+_ev            ....................   \n",
       "chr1_10496_10524_+_ev   ((.(((...)))...))............   \n",
       "chr1_10749_10778_+_ev  (((((((((......))))).....)))).   \n",
       "\n",
       "                                       element_string  \\\n",
       "id                                                      \n",
       "chr1_10140_10163_+_ev        ffffffffffffffffffffffff   \n",
       "chr1_10320_10341_+_ev          ffffffffffffffffffffff   \n",
       "chr1_10381_10400_+_ev            ffffffffffffffffffff   \n",
       "chr1_10496_10524_+_ev   ssissshhhsssiiisstttttttttttt   \n",
       "chr1_10749_10778_+_ev  ssssssssshhhhhhsssssiiiiisssst   \n",
       "\n",
       "                            element_string_number  \n",
       "id                                                 \n",
       "chr1_10140_10163_+_ev                           0  \n",
       "chr1_10320_10341_+_ev                           0  \n",
       "chr1_10381_10400_+_ev                           0  \n",
       "chr1_10496_10524_+_ev  11100011100000000262799360  \n",
       "chr1_10749_10778_+_ev  11111000000111111032537088  "
      ]
     },
     "execution_count": 5,
     "metadata": {},
     "output_type": "execute_result"
    }
   ],
   "source": [
    "data = pd.read_csv(f'./Data/{data_name}/{data_name}.design.mat.shortened.csv', index_col='id')\n",
    "data.head()"
   ]
  },
  {
   "cell_type": "code",
   "execution_count": 6,
   "metadata": {},
   "outputs": [],
   "source": [
    "data_columns = data.columns"
   ]
  },
  {
   "cell_type": "code",
   "execution_count": 7,
   "metadata": {},
   "outputs": [],
   "source": [
    "seq_columns = ['seq', 'dotbracket', 'element_string', 'element_string_number']"
   ]
  },
  {
   "cell_type": "code",
   "execution_count": 8,
   "metadata": {},
   "outputs": [],
   "source": [
    "seq_data_df = data[seq_columns]"
   ]
  },
  {
   "cell_type": "code",
   "execution_count": 9,
   "metadata": {},
   "outputs": [
    {
     "data": {
      "text/html": [
       "<div>\n",
       "<style scoped>\n",
       "    .dataframe tbody tr th:only-of-type {\n",
       "        vertical-align: middle;\n",
       "    }\n",
       "\n",
       "    .dataframe tbody tr th {\n",
       "        vertical-align: top;\n",
       "    }\n",
       "\n",
       "    .dataframe thead th {\n",
       "        text-align: right;\n",
       "    }\n",
       "</style>\n",
       "<table border=\"1\" class=\"dataframe\">\n",
       "  <thead>\n",
       "    <tr style=\"text-align: right;\">\n",
       "      <th></th>\n",
       "      <th>label</th>\n",
       "    </tr>\n",
       "  </thead>\n",
       "  <tbody>\n",
       "    <tr>\n",
       "      <th>0</th>\n",
       "      <td>YES</td>\n",
       "    </tr>\n",
       "    <tr>\n",
       "      <th>1</th>\n",
       "      <td>YES</td>\n",
       "    </tr>\n",
       "    <tr>\n",
       "      <th>2</th>\n",
       "      <td>YES</td>\n",
       "    </tr>\n",
       "    <tr>\n",
       "      <th>3</th>\n",
       "      <td>YES</td>\n",
       "    </tr>\n",
       "    <tr>\n",
       "      <th>4</th>\n",
       "      <td>YES</td>\n",
       "    </tr>\n",
       "  </tbody>\n",
       "</table>\n",
       "</div>"
      ],
      "text/plain": [
       "  label\n",
       "0   YES\n",
       "1   YES\n",
       "2   YES\n",
       "3   YES\n",
       "4   YES"
      ]
     },
     "execution_count": 9,
     "metadata": {},
     "output_type": "execute_result"
    }
   ],
   "source": [
    "labels = pd.read_csv(f'./Data/{data_name}/{data_name}.label.mat.csv')\n",
    "labels.head()"
   ]
  },
  {
   "cell_type": "code",
   "execution_count": 10,
   "metadata": {},
   "outputs": [],
   "source": [
    "np.save(file=f\"./Data/{data_name}/labels.npy\", arr=labels)"
   ]
  },
  {
   "cell_type": "code",
   "execution_count": 11,
   "metadata": {},
   "outputs": [
    {
     "data": {
      "text/plain": [
       "array(['UGGGAUUGGGGAUUGGGAUUGGGA', 'GGUUGGGAUUGGGGAUUGGGAU',\n",
       "       'AUUGGGAUUGGGGAUUGGGG', ..., 'ACUACAAAGCUUCAUAUUA',\n",
       "       'GAGACCAACAUUCUUUCUCUCA', 'UAGAGCUGAAGUGGUACAUUCA'], dtype=object)"
      ]
     },
     "execution_count": 11,
     "metadata": {},
     "output_type": "execute_result"
    }
   ],
   "source": [
    "seq_data = seq_data_df['seq'].values\n",
    "seq_data"
   ]
  },
  {
   "cell_type": "code",
   "execution_count": 12,
   "metadata": {},
   "outputs": [],
   "source": [
    "char_encoder = {\n",
    "    'N': -1,\n",
    "    'A': 0,\n",
    "    'C': 1,\n",
    "    'G': 2,\n",
    "    'U': 3\n",
    "}"
   ]
  },
  {
   "cell_type": "code",
   "execution_count": 14,
   "metadata": {},
   "outputs": [
    {
     "data": {
      "text/plain": [
       "(80841, 50, 4)"
      ]
     },
     "execution_count": 14,
     "metadata": {},
     "output_type": "execute_result"
    }
   ],
   "source": [
    "seq_encoded = exoNet.pep.seq_encoder(seq_data, char_encoder, 50, unknown_char=True)\n",
    "seq_encoded.shape"
   ]
  },
  {
   "cell_type": "code",
   "execution_count": 15,
   "metadata": {},
   "outputs": [],
   "source": [
    "db_encoder = {\n",
    "    '.': 0,\n",
    "    ')': 1,\n",
    "    '(': 2,\n",
    "}"
   ]
  },
  {
   "cell_type": "code",
   "execution_count": 17,
   "metadata": {},
   "outputs": [
    {
     "data": {
      "text/plain": [
       "(80841, 50, 3)"
      ]
     },
     "execution_count": 17,
     "metadata": {},
     "output_type": "execute_result"
    }
   ],
   "source": [
    "db_encoded = seq_data_df['dotbracket'].values\n",
    "db_encoded = exoNet.pep.seq_encoder(db_encoded, db_encoder, 50, unknown_char=False)\n",
    "db_encoded.shape"
   ]
  },
  {
   "cell_type": "code",
   "execution_count": 18,
   "metadata": {},
   "outputs": [],
   "source": [
    "element_string_encoder = {\n",
    "    'f': 0,\n",
    "    't': 1,\n",
    "    's': 2,\n",
    "    'i': 3,\n",
    "    'm': 4,\n",
    "    'h': 5,\n",
    "}"
   ]
  },
  {
   "cell_type": "code",
   "execution_count": 19,
   "metadata": {},
   "outputs": [
    {
     "data": {
      "text/plain": [
       "(80841, 50, 6)"
      ]
     },
     "execution_count": 19,
     "metadata": {},
     "output_type": "execute_result"
    }
   ],
   "source": [
    "element_string_encoded = seq_data_df['element_string'].values\n",
    "element_string_encoded = exoNet.pep.seq_encoder(element_string_encoded, element_string_encoder, 50, unknown_char=False)\n",
    "element_string_encoded.shape"
   ]
  },
  {
   "cell_type": "code",
   "execution_count": 20,
   "metadata": {},
   "outputs": [],
   "source": [
    "element_string_number_encoder = {\n",
    "    '0': 0,\n",
    "    '1': 1,\n",
    "    '2': 2,\n",
    "    '3': 3,\n",
    "    '4': 4,\n",
    "    '5': 5,\n",
    "    '6': 6,\n",
    "    '7': 7,\n",
    "    '8': 8,\n",
    "    '9': 9,\n",
    "}"
   ]
  },
  {
   "cell_type": "code",
   "execution_count": 21,
   "metadata": {},
   "outputs": [
    {
     "data": {
      "text/plain": [
       "(80841, 50, 10)"
      ]
     },
     "execution_count": 21,
     "metadata": {},
     "output_type": "execute_result"
    }
   ],
   "source": [
    "element_string_number_encoded = seq_data_df['element_string_number'].values\n",
    "element_string_number_encoded = exoNet.pep.seq_encoder(element_string_number_encoded, element_string_number_encoder, 50, unknown_char=False)\n",
    "element_string_number_encoded.shape"
   ]
  },
  {
   "cell_type": "code",
   "execution_count": 22,
   "metadata": {},
   "outputs": [
    {
     "data": {
      "text/plain": [
       "(80841, 50, 23)"
      ]
     },
     "execution_count": 22,
     "metadata": {},
     "output_type": "execute_result"
    }
   ],
   "source": [
    "seq_encoded = np.concatenate([seq_encoded, db_encoded, element_string_encoded, element_string_number_encoded], axis=2)\n",
    "seq_encoded.shape"
   ]
  },
  {
   "cell_type": "code",
   "execution_count": 23,
   "metadata": {},
   "outputs": [],
   "source": [
    "np.save(file=f\"./Data/{data_name}/sequences.npy\", arr=seq_encoded)"
   ]
  },
  {
   "cell_type": "code",
   "execution_count": null,
   "metadata": {},
   "outputs": [],
   "source": []
  }
 ],
 "metadata": {
  "kernelspec": {
   "display_name": "Python 3",
   "language": "python",
   "name": "python3"
  },
  "language_info": {
   "codemirror_mode": {
    "name": "ipython",
    "version": 3
   },
   "file_extension": ".py",
   "mimetype": "text/x-python",
   "name": "python",
   "nbconvert_exporter": "python",
   "pygments_lexer": "ipython3",
   "version": "3.7.3"
  }
 },
 "nbformat": 4,
 "nbformat_minor": 4
}
