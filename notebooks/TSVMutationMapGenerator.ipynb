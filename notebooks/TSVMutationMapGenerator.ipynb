{
 "cells": [
  {
   "cell_type": "markdown",
   "metadata": {},
   "source": [
    "# TSV Mutation Map Generator"
   ]
  },
  {
   "cell_type": "markdown",
   "metadata": {},
   "source": [
    "### This notebook just converts CSV mutation map generated files into tsv files with some minor modifications"
   ]
  },
  {
   "cell_type": "code",
   "execution_count": 1,
   "metadata": {},
   "outputs": [],
   "source": [
    "import os\n",
    "import pandas as pd"
   ]
  },
  {
   "cell_type": "code",
   "execution_count": 119,
   "metadata": {},
   "outputs": [],
   "source": [
    "path = \"/media/pgdrive/sharif/exosomians/predictions/ExoCNN/\""
   ]
  },
  {
   "cell_type": "code",
   "execution_count": 5,
   "metadata": {},
   "outputs": [],
   "source": [
    "results_path = \"/media/pgdrive/sharif/exosomians/final/\""
   ]
  },
  {
   "cell_type": "code",
   "execution_count": 132,
   "metadata": {},
   "outputs": [],
   "source": [
    "os.makedirs(results_path, exist_ok=True)"
   ]
  },
  {
   "cell_type": "code",
   "execution_count": 133,
   "metadata": {},
   "outputs": [
    {
     "data": {
      "text/plain": [
       "['ExoCNN.ic.extreme.99.probabilities.csv',\n",
       " 'gggg.predictions.csv',\n",
       " 'ExoCNN.ev.extreme.90.hc50.cl1.mo3.probabilities.csv',\n",
       " 'ExoCNN.ev.extreme.90.probabilities.csv',\n",
       " 'ExoCNN.ev.extreme.99.probabilities.csv',\n",
       " 'ExoCNN.ic.extreme.probabilities.csv',\n",
       " 'ExoCNN.ic.extreme.90.probabilities.csv',\n",
       " 'ExoCNN.final.probabilities.csv',\n",
       " 'ExoCNN.ev.extreme.probabilities.csv',\n",
       " 'ExoCNN.ev.extreme.90.hc50.cl1.mo1.probabilities.csv']"
      ]
     },
     "execution_count": 133,
     "metadata": {},
     "output_type": "execute_result"
    }
   ],
   "source": [
    "filenames = os.listdir(path)\n",
    "filenames"
   ]
  },
  {
   "cell_type": "code",
   "execution_count": 123,
   "metadata": {},
   "outputs": [
    {
     "data": {
      "text/plain": [
       "['ExoCNN.ic.extreme.99.probabilities.csv',\n",
       " 'ExoCNN.ev.extreme.90.probabilities.csv',\n",
       " 'ExoCNN.ev.extreme.99.probabilities.csv',\n",
       " 'ExoCNN.ic.extreme.90.probabilities.csv']"
      ]
     },
     "execution_count": 123,
     "metadata": {},
     "output_type": "execute_result"
    }
   ],
   "source": [
    "filenames = [filenames[0]] + filenames[3:5] + [filenames[6]]\n",
    "filenames"
   ]
  },
  {
   "cell_type": "code",
   "execution_count": 124,
   "metadata": {},
   "outputs": [],
   "source": [
    "columns_to_preserve = ['id', 'seq', 'yes']"
   ]
  },
  {
   "cell_type": "code",
   "execution_count": 129,
   "metadata": {},
   "outputs": [
    {
     "name": "stdout",
     "output_type": "stream",
     "text": [
      "ic.extreme.99.seqs.tsv\n",
      "ev.extreme.90.seqs.tsv\n",
      "ev.extreme.99.seqs.tsv\n",
      "ic.extreme.90.seqs.tsv\n"
     ]
    }
   ],
   "source": [
    "for filename in filenames:\n",
    "    df = pd.read_csv(os.path.join(path, filename))\n",
    "    df = df[columns_to_preserve]\n",
    "    df['secretion_prob'] = df['yes']\n",
    "    df.drop(['yes'], axis=1, inplace=True)\n",
    "    print(\".\".join(filename.replace(\"probabilities.csv\", \"seqs.tsv\").split(\".\")[1:]))\n",
    "    df.to_csv(os.path.join(results_path, \".\".join(filename.replace(\"probabilities.csv\", \"seqs.tsv\").split(\".\")[1:])), index=False, sep = \"\\t\")"
   ]
  },
  {
   "cell_type": "code",
   "execution_count": 27,
   "metadata": {},
   "outputs": [
    {
     "data": {
      "text/plain": [
       "['ExoCNN.ev.extreme.90.tsv',\n",
       " 'ExoCNN.ic.extreme.90.csv',\n",
       " 'ExoCNN.ic.extreme.99.csv',\n",
       " 'ExoCNN.ic.extreme.99.tsv',\n",
       " 'ExoCNN.ev.extreme.99.csv',\n",
       " 'ExoCNN.ev.extreme.90.csv',\n",
       " 'ExoCNN.ev.extreme.99.tsv',\n",
       " 'ExoCNN.ic.extreme.90.tsv']"
      ]
     },
     "execution_count": 27,
     "metadata": {},
     "output_type": "execute_result"
    }
   ],
   "source": [
    "os.listdir(results_path)"
   ]
  },
  {
   "cell_type": "code",
   "execution_count": 2,
   "metadata": {},
   "outputs": [],
   "source": [
    "mutated_path = \"/media/pgdrive/sharif/exosomians/MutationMaps/ExoCNN\""
   ]
  },
  {
   "cell_type": "code",
   "execution_count": 3,
   "metadata": {},
   "outputs": [
    {
     "data": {
      "text/plain": [
       "['ExoCNN.ev.extreme.90.unique.probabilities.mutation.map.2.npy',\n",
       " 'ic.random.99.mutation.map.1.csv',\n",
       " 'ExoCNN.ic.extreme.90.unique.probabilities.mutation.map.1.csv',\n",
       " 'random.extreme.99.mutation.map.1.csv',\n",
       " 'ev.random.99.mutation.map.1.csv',\n",
       " 'ev.random.99.mutation.map.2.csv',\n",
       " 'ev.extreme.99.mutation.map.2.csv',\n",
       " 'npys',\n",
       " 'motifs',\n",
       " 'ExoCNN.ic.extreme.90.unique.probabilities.mutation.map.2.npy',\n",
       " 'ic.extreme.99.mutation.map.2.csv',\n",
       " 'ev.random.90.mutation.map.2.csv',\n",
       " 'ic.extreme.99.mutation.map.1.csv',\n",
       " 'ev.random.90.mutation.map.2.npy',\n",
       " 'ev.random.90.mutation.map.1.csv',\n",
       " 'random.extreme.99.mutation.map.1.npy',\n",
       " 'ev.extreme.90.mutation.map.2.csv',\n",
       " 'ExoCNN.ev.extreme.90.unique.probabilities.mutation.map.1.npy',\n",
       " 'ic.random.99.mutation.map.2.csv',\n",
       " 'ic.random.99.mutation.map.2.npy',\n",
       " 'ExoCNN.ev.extreme.90.unique.probabilities.mutation.map.1.csv',\n",
       " 'ExoCNN.ic.extreme.90.unique.probabilities.mutation.map.2.csv',\n",
       " 'ev.extreme.90.mutation.map.1.csv',\n",
       " 'ic.extreme.90.mutation.map.1.csv',\n",
       " 'ev.extreme.99.mutation.map.1.csv',\n",
       " 'ExoCNN.ic.extreme.90.unique.probabilities.mutation.map.1.npy',\n",
       " 'ExoCNN.ev.extreme.90.unique.probabilities.mutation.map.2.csv',\n",
       " 'ic.extreme.90.mutation.map.2.csv']"
      ]
     },
     "execution_count": 3,
     "metadata": {},
     "output_type": "execute_result"
    }
   ],
   "source": [
    "filenames = os.listdir(mutated_path)\n",
    "filenames"
   ]
  },
  {
   "cell_type": "code",
   "execution_count": 7,
   "metadata": {},
   "outputs": [],
   "source": [
    "filenames = [\n",
    "    \"ExoCNN.ic.extreme.90.unique.probabilities.mutation.map.1.csv\",\n",
    "    \"ExoCNN.ev.extreme.90.unique.probabilities.mutation.map.1.csv\",\n",
    "    \"ExoCNN.ic.extreme.90.unique.probabilities.mutation.map.2.csv\",\n",
    "    \"ExoCNN.ev.extreme.90.unique.probabilities.mutation.map.2.csv\"\n",
    "]"
   ]
  },
  {
   "cell_type": "code",
   "execution_count": 8,
   "metadata": {},
   "outputs": [],
   "source": [
    "transition_dict = {\"ev\": \"EV->IC\", \"ic\": \"IC->EV\", \"ra\": \"IC->EV\"}\n",
    "for filename in filenames:\n",
    "    if filename.endswith(\".csv\"):\n",
    "        n_positions = int(filename[-5])\n",
    "        column_dict = {\n",
    "            \"id\": \"id\",\n",
    "            \"seq\": \"seq\",\n",
    "            \"mutated_seq\": \"mutated_seq\",\n",
    "            \"Score\": \"secretion_prob_after_mutation\",\n",
    "            \"prob_yes\": \"secretion_prob\",\n",
    "        }\n",
    "\n",
    "        columns_order = ['id', 'seq', 'mutated_seq']\n",
    "\n",
    "        for i in range(1, n_positions+1):\n",
    "            column_dict[f\"pos_{i}\"] = f\"mutated_pos_{i}\"\n",
    "            column_dict[f\"mutation_{i}\"] = f\"mutation_alt_{i}\"\n",
    "\n",
    "            columns_order += [f'mutated_pos_{i}']\n",
    "\n",
    "        for i in range(1, n_positions + 1):\n",
    "            columns_order += [f'mutation_alt_{i}']\n",
    "\n",
    "        columns_order += ['secretion_prob', 'secretion_prob_after_mutation']\n",
    "\n",
    "        df = pd.read_csv(os.path.join(mutated_path, filename))\n",
    "        df.drop(['prob_no'], axis=1, inplace=True)\n",
    "\n",
    "        df.rename(columns=column_dict, inplace=True)\n",
    "\n",
    "        df['secretion_prob_after_mutation'] = abs(df['secretion_prob_after_mutation'] + df['secretion_prob'])\n",
    "\n",
    "        df = df[columns_order]\n",
    "\n",
    "        df['transition'] = transition_dict[filename[7:9]]\n",
    "        \n",
    "        if filename.startswith(\"random\"):\n",
    "            df.loc[df['secretion_prob_after_mutation'] < 0.5, 'transition'] = 'EV->IC'\n",
    "            \n",
    "        df.to_csv(os.path.join(results_path, filename.replace(\".csv\", \".tsv\")), index=False, sep='\\t')"
   ]
  },
  {
   "cell_type": "code",
   "execution_count": 54,
   "metadata": {},
   "outputs": [],
   "source": [
    "random_path = \"/media/pgdrive/sharif/exosomians/RandomSequences/\""
   ]
  },
  {
   "cell_type": "code",
   "execution_count": 56,
   "metadata": {},
   "outputs": [
    {
     "data": {
      "text/plain": [
       "['ic.extreme.99.sequences.3.csv',\n",
       " 'ev.extreme.random.90.3.predictions.csv',\n",
       " 'ic.extreme.random.99.3.predictions.csv',\n",
       " 'ic.extreme.90.sequences.3.csv',\n",
       " 'ev.extreme.90.sequences.3.csv',\n",
       " 'ev.extreme.random.99.3.predictions.csv',\n",
       " 'ev.extreme.99.sequences.3.csv',\n",
       " 'ic.extreme.random.90.3.predictions.csv']"
      ]
     },
     "execution_count": 56,
     "metadata": {},
     "output_type": "execute_result"
    }
   ],
   "source": [
    "filenames = os.listdir(random_path)\n",
    "filenames"
   ]
  },
  {
   "cell_type": "code",
   "execution_count": 110,
   "metadata": {},
   "outputs": [
    {
     "data": {
      "text/html": [
       "<div>\n",
       "<style scoped>\n",
       "    .dataframe tbody tr th:only-of-type {\n",
       "        vertical-align: middle;\n",
       "    }\n",
       "\n",
       "    .dataframe tbody tr th {\n",
       "        vertical-align: top;\n",
       "    }\n",
       "\n",
       "    .dataframe thead th {\n",
       "        text-align: right;\n",
       "    }\n",
       "</style>\n",
       "<table border=\"1\" class=\"dataframe\">\n",
       "  <thead>\n",
       "    <tr style=\"text-align: right;\">\n",
       "      <th></th>\n",
       "      <th>seq</th>\n",
       "      <th>no</th>\n",
       "      <th>yes</th>\n",
       "    </tr>\n",
       "  </thead>\n",
       "  <tbody>\n",
       "    <tr>\n",
       "      <th>1</th>\n",
       "      <td>CCCCUUGAUAUUACCAAAUAGGGAAGACUUU</td>\n",
       "      <td>0.004143</td>\n",
       "      <td>0.995857</td>\n",
       "    </tr>\n",
       "    <tr>\n",
       "      <th>3</th>\n",
       "      <td>GUUUUUCUUAAACCAGUGCAAAGAGAGAGACACCUAUGUCUA</td>\n",
       "      <td>0.999050</td>\n",
       "      <td>0.000950</td>\n",
       "    </tr>\n",
       "    <tr>\n",
       "      <th>10</th>\n",
       "      <td>CUGGAGCAUGAUCUAGGAGUUUGCUGCGACUGGCAGAG</td>\n",
       "      <td>0.999771</td>\n",
       "      <td>0.000229</td>\n",
       "    </tr>\n",
       "    <tr>\n",
       "      <th>11</th>\n",
       "      <td>CUGGGCAGCUUGGCGCUAUUCUGAGAUGAGAGACAGUG</td>\n",
       "      <td>0.999581</td>\n",
       "      <td>0.000419</td>\n",
       "    </tr>\n",
       "    <tr>\n",
       "      <th>19</th>\n",
       "      <td>CGGUAGUUGAGUCCCUGACAGUUA</td>\n",
       "      <td>0.999946</td>\n",
       "      <td>0.000054</td>\n",
       "    </tr>\n",
       "  </tbody>\n",
       "</table>\n",
       "</div>"
      ],
      "text/plain": [
       "                                           seq        no       yes\n",
       "1              CCCCUUGAUAUUACCAAAUAGGGAAGACUUU  0.004143  0.995857\n",
       "3   GUUUUUCUUAAACCAGUGCAAAGAGAGAGACACCUAUGUCUA  0.999050  0.000950\n",
       "10      CUGGAGCAUGAUCUAGGAGUUUGCUGCGACUGGCAGAG  0.999771  0.000229\n",
       "11      CUGGGCAGCUUGGCGCUAUUCUGAGAUGAGAGACAGUG  0.999581  0.000419\n",
       "19                    CGGUAGUUGAGUCCCUGACAGUUA  0.999946  0.000054"
      ]
     },
     "execution_count": 110,
     "metadata": {},
     "output_type": "execute_result"
    }
   ],
   "source": [
    "dfs = []\n",
    "for filename in filenames:\n",
    "    if filename.__contains__(\"predictions\"):\n",
    "        df = pd.read_csv(os.path.join(random_path, filename))\n",
    "        df = df.loc[((df['yes'] >= 0.99) | (df['no'] >= 0.999))]\n",
    "        dfs.append(df)\n",
    "random_df = pd.concat(dfs, axis=0)\n",
    "random_df.head()"
   ]
  },
  {
   "cell_type": "code",
   "execution_count": 111,
   "metadata": {},
   "outputs": [],
   "source": [
    "random_df.drop_duplicates(subset='seq', keep=\"last\", inplace=True)"
   ]
  },
  {
   "cell_type": "code",
   "execution_count": 112,
   "metadata": {},
   "outputs": [
    {
     "data": {
      "text/plain": [
       "(20041, 3)"
      ]
     },
     "execution_count": 112,
     "metadata": {},
     "output_type": "execute_result"
    }
   ],
   "source": [
    "random_df.shape"
   ]
  },
  {
   "cell_type": "code",
   "execution_count": 113,
   "metadata": {},
   "outputs": [],
   "source": [
    "random_df.drop(['no'], axis=1, inplace=True)"
   ]
  },
  {
   "cell_type": "code",
   "execution_count": 114,
   "metadata": {},
   "outputs": [],
   "source": [
    "random_df.rename(columns={\"seq\": \"seq\", \"yes\": \"secretion_prob\"}, inplace=True)"
   ]
  },
  {
   "cell_type": "code",
   "execution_count": 115,
   "metadata": {},
   "outputs": [],
   "source": [
    "random_df['label'] = 'IC'\n",
    "random_df.loc[random_df['secretion_prob'] >= 0.5, 'label'] = 'EV'"
   ]
  },
  {
   "cell_type": "code",
   "execution_count": 116,
   "metadata": {},
   "outputs": [
    {
     "data": {
      "text/html": [
       "<div>\n",
       "<style scoped>\n",
       "    .dataframe tbody tr th:only-of-type {\n",
       "        vertical-align: middle;\n",
       "    }\n",
       "\n",
       "    .dataframe tbody tr th {\n",
       "        vertical-align: top;\n",
       "    }\n",
       "\n",
       "    .dataframe thead th {\n",
       "        text-align: right;\n",
       "    }\n",
       "</style>\n",
       "<table border=\"1\" class=\"dataframe\">\n",
       "  <thead>\n",
       "    <tr style=\"text-align: right;\">\n",
       "      <th></th>\n",
       "      <th>seq</th>\n",
       "      <th>secretion_prob</th>\n",
       "      <th>label</th>\n",
       "    </tr>\n",
       "  </thead>\n",
       "  <tbody>\n",
       "    <tr>\n",
       "      <th>1</th>\n",
       "      <td>CCCCUUGAUAUUACCAAAUAGGGAAGACUUU</td>\n",
       "      <td>0.995857</td>\n",
       "      <td>EV</td>\n",
       "    </tr>\n",
       "    <tr>\n",
       "      <th>3</th>\n",
       "      <td>GUUUUUCUUAAACCAGUGCAAAGAGAGAGACACCUAUGUCUA</td>\n",
       "      <td>0.000950</td>\n",
       "      <td>IC</td>\n",
       "    </tr>\n",
       "    <tr>\n",
       "      <th>10</th>\n",
       "      <td>CUGGAGCAUGAUCUAGGAGUUUGCUGCGACUGGCAGAG</td>\n",
       "      <td>0.000229</td>\n",
       "      <td>IC</td>\n",
       "    </tr>\n",
       "    <tr>\n",
       "      <th>11</th>\n",
       "      <td>CUGGGCAGCUUGGCGCUAUUCUGAGAUGAGAGACAGUG</td>\n",
       "      <td>0.000419</td>\n",
       "      <td>IC</td>\n",
       "    </tr>\n",
       "    <tr>\n",
       "      <th>19</th>\n",
       "      <td>CGGUAGUUGAGUCCCUGACAGUUA</td>\n",
       "      <td>0.000054</td>\n",
       "      <td>IC</td>\n",
       "    </tr>\n",
       "  </tbody>\n",
       "</table>\n",
       "</div>"
      ],
      "text/plain": [
       "                                           seq  secretion_prob label\n",
       "1              CCCCUUGAUAUUACCAAAUAGGGAAGACUUU        0.995857    EV\n",
       "3   GUUUUUCUUAAACCAGUGCAAAGAGAGAGACACCUAUGUCUA        0.000950    IC\n",
       "10      CUGGAGCAUGAUCUAGGAGUUUGCUGCGACUGGCAGAG        0.000229    IC\n",
       "11      CUGGGCAGCUUGGCGCUAUUCUGAGAUGAGAGACAGUG        0.000419    IC\n",
       "19                    CGGUAGUUGAGUCCCUGACAGUUA        0.000054    IC"
      ]
     },
     "execution_count": 116,
     "metadata": {},
     "output_type": "execute_result"
    }
   ],
   "source": [
    "random_df.head()"
   ]
  },
  {
   "cell_type": "code",
   "execution_count": 117,
   "metadata": {},
   "outputs": [
    {
     "data": {
      "text/plain": [
       "IC    17144\n",
       "EV     2897\n",
       "Name: label, dtype: int64"
      ]
     },
     "execution_count": 117,
     "metadata": {},
     "output_type": "execute_result"
    }
   ],
   "source": [
    "random_df['label'].value_counts()"
   ]
  },
  {
   "cell_type": "code",
   "execution_count": 118,
   "metadata": {},
   "outputs": [],
   "source": [
    "random_df.to_csv(os.path.join(results_path, 'random.extreme.99.seqs.tsv'), sep='\\t', index=False)"
   ]
  },
  {
   "cell_type": "code",
   "execution_count": 131,
   "metadata": {},
   "outputs": [
    {
     "name": "stderr",
     "output_type": "stream",
     "text": [
      "/home/mohsen/anaconda3/envs/mohsen/lib/python3.7/site-packages/ipykernel_launcher.py:1: FutureWarning: The signature of `Series.to_csv` was aligned to that of `DataFrame.to_csv`, and argument 'header' will change its default value from False to True: please pass an explicit value to suppress this warning.\n",
      "  \"\"\"Entry point for launching an IPython kernel.\n"
     ]
    }
   ],
   "source": [
    "random_df['seq'].to_csv(os.path.join(random_path, \"random.extreme.99.seqs.csv\"), index=False)"
   ]
  },
  {
   "cell_type": "code",
   "execution_count": null,
   "metadata": {},
   "outputs": [],
   "source": []
  },
  {
   "cell_type": "code",
   "execution_count": null,
   "metadata": {},
   "outputs": [],
   "source": []
  },
  {
   "cell_type": "code",
   "execution_count": null,
   "metadata": {},
   "outputs": [],
   "source": []
  },
  {
   "cell_type": "code",
   "execution_count": null,
   "metadata": {},
   "outputs": [],
   "source": []
  },
  {
   "cell_type": "code",
   "execution_count": null,
   "metadata": {},
   "outputs": [],
   "source": []
  }
 ],
 "metadata": {
  "kernelspec": {
   "display_name": "Python 3",
   "language": "python",
   "name": "python3"
  },
  "language_info": {
   "codemirror_mode": {
    "name": "ipython",
    "version": 3
   },
   "file_extension": ".py",
   "mimetype": "text/x-python",
   "name": "python",
   "nbconvert_exporter": "python",
   "pygments_lexer": "ipython3",
   "version": "3.7.6"
  }
 },
 "nbformat": 4,
 "nbformat_minor": 4
}
