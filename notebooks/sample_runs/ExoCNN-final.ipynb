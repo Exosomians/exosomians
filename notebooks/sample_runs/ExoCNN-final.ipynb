{
 "cells": [
  {
   "cell_type": "markdown",
   "metadata": {},
   "source": [
    "# Sample Run for final Dataset"
   ]
  },
  {
   "cell_type": "markdown",
   "metadata": {},
   "source": [
    "# Import necessary packages"
   ]
  },
  {
   "cell_type": "code",
   "execution_count": 1,
   "metadata": {},
   "outputs": [],
   "source": [
    "import os\n",
    "os.chdir(\"../../../\")"
   ]
  },
  {
   "cell_type": "code",
   "execution_count": 2,
   "metadata": {},
   "outputs": [],
   "source": [
    "os.environ['CUDA_VISIBLE_DEVICES'] = \"0\""
   ]
  },
  {
   "cell_type": "code",
   "execution_count": 3,
   "metadata": {},
   "outputs": [
    {
     "name": "stderr",
     "output_type": "stream",
     "text": [
      "Using TensorFlow backend.\n"
     ]
    }
   ],
   "source": [
    "import exoNet\n",
    "import scanpy as sc\n",
    "import numpy as np\n",
    "import pandas as pd\n",
    "from matplotlib import pyplot as plt"
   ]
  },
  {
   "cell_type": "markdown",
   "metadata": {},
   "source": [
    "# Data Loading and Preprocessing"
   ]
  },
  {
   "cell_type": "code",
   "execution_count": 4,
   "metadata": {},
   "outputs": [],
   "source": [
    "data_name = \"final\""
   ]
  },
  {
   "cell_type": "code",
   "execution_count": 5,
   "metadata": {},
   "outputs": [
    {
     "data": {
      "text/plain": [
       "(200221, 50, 4)"
      ]
     },
     "execution_count": 5,
     "metadata": {},
     "output_type": "execute_result"
    }
   ],
   "source": [
    "data = np.load(f\"./Data/{data_name}/sequences.npy\", allow_pickle=True)\n",
    "data = data[:, :, :4]\n",
    "data.shape"
   ]
  },
  {
   "cell_type": "code",
   "execution_count": 6,
   "metadata": {},
   "outputs": [
    {
     "data": {
      "text/plain": [
       "(200221,)"
      ]
     },
     "execution_count": 6,
     "metadata": {},
     "output_type": "execute_result"
    }
   ],
   "source": [
    "labels = np.load(f\"./Data/{data_name}/labels.npy\", allow_pickle=True)\n",
    "labels = np.reshape(labels, (-1,))\n",
    "labels.shape"
   ]
  },
  {
   "cell_type": "markdown",
   "metadata": {},
   "source": [
    "# Model Instatiation"
   ]
  },
  {
   "cell_type": "code",
   "execution_count": 7,
   "metadata": {},
   "outputs": [
    {
     "name": "stdout",
     "output_type": "stream",
     "text": [
      "WARNING:tensorflow:From /home/mohsen/anaconda3/envs/mohsen/lib/python3.7/site-packages/tensorflow/python/framework/op_def_library.py:263: colocate_with (from tensorflow.python.framework.ops) is deprecated and will be removed in a future version.\n",
      "Instructions for updating:\n",
      "Colocations handled automatically by placer.\n",
      "WARNING:tensorflow:From /home/mohsen/anaconda3/envs/mohsen/lib/python3.7/site-packages/keras/backend/tensorflow_backend.py:3445: calling dropout (from tensorflow.python.ops.nn_ops) with keep_prob is deprecated and will be removed in a future version.\n",
      "Instructions for updating:\n",
      "Please use `rate` instead of `keep_prob`. Rate should be set to `rate = 1 - keep_prob`.\n",
      "_________________________________________________________________\n",
      "Layer (type)                 Output Shape              Param #   \n",
      "=================================================================\n",
      "data (InputLayer)            (None, 50, 4)             0         \n",
      "_________________________________________________________________\n",
      "conv1d_1 (Conv1D)            (None, 50, 32)            1280      \n",
      "_________________________________________________________________\n",
      "batch_normalization_1 (Batch (None, 50, 32)            128       \n",
      "_________________________________________________________________\n",
      "re_lu_1 (ReLU)               (None, 50, 32)            0         \n",
      "_________________________________________________________________\n",
      "conv1d_2 (Conv1D)            (None, 50, 64)            20480     \n",
      "_________________________________________________________________\n",
      "batch_normalization_2 (Batch (None, 50, 64)            256       \n",
      "_________________________________________________________________\n",
      "re_lu_2 (ReLU)               (None, 50, 64)            0         \n",
      "_________________________________________________________________\n",
      "max_pooling1d_1 (MaxPooling1 (None, 25, 64)            0         \n",
      "_________________________________________________________________\n",
      "conv1d_3 (Conv1D)            (None, 25, 64)            28672     \n",
      "_________________________________________________________________\n",
      "batch_normalization_3 (Batch (None, 25, 64)            256       \n",
      "_________________________________________________________________\n",
      "re_lu_3 (ReLU)               (None, 25, 64)            0         \n",
      "_________________________________________________________________\n",
      "conv1d_4 (Conv1D)            (None, 25, 128)           57344     \n",
      "_________________________________________________________________\n",
      "batch_normalization_4 (Batch (None, 25, 128)           512       \n",
      "_________________________________________________________________\n",
      "re_lu_4 (ReLU)               (None, 25, 128)           0         \n",
      "_________________________________________________________________\n",
      "max_pooling1d_2 (MaxPooling1 (None, 12, 128)           0         \n",
      "_________________________________________________________________\n",
      "flatten_1 (Flatten)          (None, 1536)              0         \n",
      "_________________________________________________________________\n",
      "dense_1 (Dense)              (None, 128)               196608    \n",
      "_________________________________________________________________\n",
      "batch_normalization_5 (Batch (None, 128)               512       \n",
      "_________________________________________________________________\n",
      "re_lu_5 (ReLU)               (None, 128)               0         \n",
      "_________________________________________________________________\n",
      "dense_2 (Dense)              (None, 64)                8192      \n",
      "_________________________________________________________________\n",
      "batch_normalization_6 (Batch (None, 64)                256       \n",
      "_________________________________________________________________\n",
      "re_lu_6 (ReLU)               (None, 64)                0         \n",
      "_________________________________________________________________\n",
      "dense_3 (Dense)              (None, 16)                1024      \n",
      "_________________________________________________________________\n",
      "batch_normalization_7 (Batch (None, 16)                64        \n",
      "_________________________________________________________________\n",
      "re_lu_7 (ReLU)               (None, 16)                0         \n",
      "_________________________________________________________________\n",
      "dropout_1 (Dropout)          (None, 16)                0         \n",
      "_________________________________________________________________\n",
      "dense_4 (Dense)              (None, 2)                 34        \n",
      "=================================================================\n",
      "Total params: 315,618\n",
      "Trainable params: 314,626\n",
      "Non-trainable params: 992\n",
      "_________________________________________________________________\n"
     ]
    }
   ],
   "source": [
    "network = exoNet.models.ExoCNN(seq_len=data.shape[1],\n",
    "                               n_channels=data.shape[2],\n",
    "                               n_classes=2,\n",
    "                               padding=\"same\",\n",
    "                               use_batchnorm=True,\n",
    "                               lr=0.0001,\n",
    "                               model_path=f\"./models/ExoCNN/{data_name}\",\n",
    "                               class_weight={0: 0.2, 1:0.8},\n",
    "                               dropout_rate=0.4,\n",
    "                               )"
   ]
  },
  {
   "cell_type": "code",
   "execution_count": 7,
   "metadata": {},
   "outputs": [],
   "source": [
    "network.restore_model_weights()"
   ]
  },
  {
   "cell_type": "code",
   "execution_count": 8,
   "metadata": {},
   "outputs": [
    {
     "name": "stdout",
     "output_type": "stream",
     "text": [
      "WARNING:tensorflow:From /home/mohsen/anaconda3/envs/mohsen/lib/python3.7/site-packages/tensorflow/python/ops/math_ops.py:3066: to_int32 (from tensorflow.python.ops.math_ops) is deprecated and will be removed in a future version.\n",
      "Instructions for updating:\n",
      "Use tf.cast instead.\n",
      "Train on 160176 samples, validate on 40045 samples\n",
      "Epoch 1/500\n",
      " - 138s - loss: 0.1388 - acc: 0.7749 - sensitivity: 0.8583 - specificity: 0.7590 - val_loss: 0.4407 - val_acc: 0.7648 - val_sensitivity: 0.9117 - val_specificity: 0.7277\n",
      "Epoch 2/500\n",
      " - 129s - loss: 0.1246 - acc: 0.7990 - sensitivity: 0.8944 - specificity: 0.7803 - val_loss: 0.3644 - val_acc: 0.8228 - val_sensitivity: 0.8726 - val_specificity: 0.8105\n",
      "Epoch 3/500\n",
      " - 129s - loss: 0.1164 - acc: 0.8097 - sensitivity: 0.9068 - specificity: 0.7904 - val_loss: 0.3438 - val_acc: 0.8304 - val_sensitivity: 0.8829 - val_specificity: 0.8172\n",
      "Epoch 4/500\n",
      " - 129s - loss: 0.1093 - acc: 0.8232 - sensitivity: 0.9150 - specificity: 0.8046 - val_loss: 0.3447 - val_acc: 0.8338 - val_sensitivity: 0.8918 - val_specificity: 0.8194\n",
      "Epoch 5/500\n",
      " - 129s - loss: 0.1032 - acc: 0.8334 - sensitivity: 0.9236 - specificity: 0.8148 - val_loss: 0.3374 - val_acc: 0.8299 - val_sensitivity: 0.9056 - val_specificity: 0.8110\n",
      "Epoch 6/500\n",
      " - 129s - loss: 0.0967 - acc: 0.8419 - sensitivity: 0.9295 - specificity: 0.8230 - val_loss: 0.3547 - val_acc: 0.8211 - val_sensitivity: 0.9140 - val_specificity: 0.7981\n",
      "Epoch 7/500\n",
      " - 130s - loss: 0.0914 - acc: 0.8479 - sensitivity: 0.9406 - specificity: 0.8273 - val_loss: 0.3050 - val_acc: 0.8555 - val_sensitivity: 0.8613 - val_specificity: 0.8538\n",
      "Epoch 8/500\n",
      " - 129s - loss: 0.0858 - acc: 0.8585 - sensitivity: 0.9431 - specificity: 0.8396 - val_loss: 0.3173 - val_acc: 0.8491 - val_sensitivity: 0.8722 - val_specificity: 0.8429\n",
      "Epoch 9/500\n",
      " - 129s - loss: 0.0816 - acc: 0.8655 - sensitivity: 0.9521 - specificity: 0.8460 - val_loss: 0.3297 - val_acc: 0.8397 - val_sensitivity: 0.8792 - val_specificity: 0.8297\n",
      "Epoch 10/500\n",
      " - 129s - loss: 0.0775 - acc: 0.8741 - sensitivity: 0.9543 - specificity: 0.8554 - val_loss: 0.3433 - val_acc: 0.8509 - val_sensitivity: 0.8670 - val_specificity: 0.8468\n",
      "Epoch 11/500\n",
      " - 129s - loss: 0.0614 - acc: 0.9040 - sensitivity: 0.9664 - specificity: 0.8903 - val_loss: 0.3217 - val_acc: 0.8707 - val_sensitivity: 0.8253 - val_specificity: 0.8821\n",
      "Epoch 12/500\n",
      " - 129s - loss: 0.0540 - acc: 0.9176 - sensitivity: 0.9737 - specificity: 0.9053 - val_loss: 0.3442 - val_acc: 0.8722 - val_sensitivity: 0.8195 - val_specificity: 0.8853\n"
     ]
    }
   ],
   "source": [
    "network.train(data,\n",
    "              labels, \n",
    "              le={\"NO\": 0, \"YES\": 1},\n",
    "              n_epochs=500,\n",
    "              batch_size=32,\n",
    "              early_stopping_kwargs={\"patience\": 5, \"monitor\": \"val_loss\"},\n",
    "              lr_reducer_kwargs={\"patience\": 3, \"monitor\": \"val_loss\"},\n",
    "              save=True,\n",
    "              verbose=2,\n",
    "              )"
   ]
  },
  {
   "cell_type": "code",
   "execution_count": 9,
   "metadata": {},
   "outputs": [
    {
     "data": {
      "text/plain": [
       "(200221, 2)"
      ]
     },
     "execution_count": 9,
     "metadata": {},
     "output_type": "execute_result"
    }
   ],
   "source": [
    "predicted_labels = network.model.predict(data)\n",
    "predicted_labels.shape"
   ]
  },
  {
   "cell_type": "code",
   "execution_count": 40,
   "metadata": {},
   "outputs": [
    {
     "data": {
      "text/plain": [
       "'./models/ExoCNN/final'"
      ]
     },
     "execution_count": 40,
     "metadata": {},
     "output_type": "execute_result"
    }
   ],
   "source": [
    "network.model_path"
   ]
  },
  {
   "cell_type": "code",
   "execution_count": 10,
   "metadata": {},
   "outputs": [
    {
     "data": {
      "text/plain": [
       "array([9.9999034e-01, 9.6076947e-06], dtype=float32)"
      ]
     },
     "execution_count": 10,
     "metadata": {},
     "output_type": "execute_result"
    }
   ],
   "source": [
    "predicted_labels[0]"
   ]
  },
  {
   "cell_type": "code",
   "execution_count": 12,
   "metadata": {},
   "outputs": [
    {
     "data": {
      "text/plain": [
       "0     chr13_80888929_80888951_+_ic\n",
       "1         chr12_674559_674597_-_ic\n",
       "2     chr18_50353832_50353853_-_ic\n",
       "3    chr2_148657600_148657623_+_ic\n",
       "4    chr2_191537005_191537027_-_ic\n",
       "Name: id, dtype: object"
      ]
     },
     "execution_count": 12,
     "metadata": {},
     "output_type": "execute_result"
    }
   ],
   "source": [
    "identifiers = pd.read_csv(f\"./Data/{data_name}/{data_name}.design.mat.subset.shortened.csv\")['id']\n",
    "identifiers.head()"
   ]
  },
  {
   "cell_type": "code",
   "execution_count": 15,
   "metadata": {},
   "outputs": [
    {
     "data": {
      "text/plain": [
       "0                    UUUUGAUCAAACGUAGAACCAAU\n",
       "1    GUGCUAGGUCCCCAGAUCAAGUCAGAUGCCAACGAGAUU\n",
       "2                     ACUUCAAUCUGGGAUUUUUAUA\n",
       "3                   AACUCUCCAUCAUAACAUCAAGAA\n",
       "4                    AUUUCCAUGCCAGGAUUUUUCCC\n",
       "Name: seq, dtype: object"
      ]
     },
     "execution_count": 15,
     "metadata": {},
     "output_type": "execute_result"
    }
   ],
   "source": [
    "sequences = pd.read_csv(f\"./Data/{data_name}/{data_name}.design.mat.subset.shortened.csv\")['seq']\n",
    "sequences.head()"
   ]
  },
  {
   "cell_type": "code",
   "execution_count": 16,
   "metadata": {},
   "outputs": [
    {
     "data": {
      "text/html": [
       "<div>\n",
       "<style scoped>\n",
       "    .dataframe tbody tr th:only-of-type {\n",
       "        vertical-align: middle;\n",
       "    }\n",
       "\n",
       "    .dataframe tbody tr th {\n",
       "        vertical-align: top;\n",
       "    }\n",
       "\n",
       "    .dataframe thead th {\n",
       "        text-align: right;\n",
       "    }\n",
       "</style>\n",
       "<table border=\"1\" class=\"dataframe\">\n",
       "  <thead>\n",
       "    <tr style=\"text-align: right;\">\n",
       "      <th></th>\n",
       "      <th>id</th>\n",
       "      <th>seq</th>\n",
       "      <th>no</th>\n",
       "      <th>yes</th>\n",
       "    </tr>\n",
       "  </thead>\n",
       "  <tbody>\n",
       "    <tr>\n",
       "      <th>0</th>\n",
       "      <td>chr13_80888929_80888951_+_ic</td>\n",
       "      <td>UUUUGAUCAAACGUAGAACCAAU</td>\n",
       "      <td>0.999990</td>\n",
       "      <td>0.000010</td>\n",
       "    </tr>\n",
       "    <tr>\n",
       "      <th>1</th>\n",
       "      <td>chr12_674559_674597_-_ic</td>\n",
       "      <td>GUGCUAGGUCCCCAGAUCAAGUCAGAUGCCAACGAGAUU</td>\n",
       "      <td>0.999995</td>\n",
       "      <td>0.000004</td>\n",
       "    </tr>\n",
       "    <tr>\n",
       "      <th>2</th>\n",
       "      <td>chr18_50353832_50353853_-_ic</td>\n",
       "      <td>ACUUCAAUCUGGGAUUUUUAUA</td>\n",
       "      <td>0.770152</td>\n",
       "      <td>0.229848</td>\n",
       "    </tr>\n",
       "    <tr>\n",
       "      <th>3</th>\n",
       "      <td>chr2_148657600_148657623_+_ic</td>\n",
       "      <td>AACUCUCCAUCAUAACAUCAAGAA</td>\n",
       "      <td>0.983129</td>\n",
       "      <td>0.016871</td>\n",
       "    </tr>\n",
       "    <tr>\n",
       "      <th>4</th>\n",
       "      <td>chr2_191537005_191537027_-_ic</td>\n",
       "      <td>AUUUCCAUGCCAGGAUUUUUCCC</td>\n",
       "      <td>0.244401</td>\n",
       "      <td>0.755599</td>\n",
       "    </tr>\n",
       "  </tbody>\n",
       "</table>\n",
       "</div>"
      ],
      "text/plain": [
       "                              id                                      seq  \\\n",
       "0   chr13_80888929_80888951_+_ic                  UUUUGAUCAAACGUAGAACCAAU   \n",
       "1       chr12_674559_674597_-_ic  GUGCUAGGUCCCCAGAUCAAGUCAGAUGCCAACGAGAUU   \n",
       "2   chr18_50353832_50353853_-_ic                   ACUUCAAUCUGGGAUUUUUAUA   \n",
       "3  chr2_148657600_148657623_+_ic                 AACUCUCCAUCAUAACAUCAAGAA   \n",
       "4  chr2_191537005_191537027_-_ic                  AUUUCCAUGCCAGGAUUUUUCCC   \n",
       "\n",
       "         no       yes  \n",
       "0  0.999990  0.000010  \n",
       "1  0.999995  0.000004  \n",
       "2  0.770152  0.229848  \n",
       "3  0.983129  0.016871  \n",
       "4  0.244401  0.755599  "
      ]
     },
     "execution_count": 16,
     "metadata": {},
     "output_type": "execute_result"
    }
   ],
   "source": [
    "results = pd.DataFrame({'id': identifiers, 'seq': sequences, 'no': predicted_labels[:, 0], 'yes': predicted_labels[:, 1]})\n",
    "results.head()"
   ]
  },
  {
   "cell_type": "code",
   "execution_count": 29,
   "metadata": {},
   "outputs": [],
   "source": [
    "path_to_save = \"/media/pgdrive/sharif/exosomians/predictions/ExoCNN/\""
   ]
  },
  {
   "cell_type": "code",
   "execution_count": 35,
   "metadata": {},
   "outputs": [],
   "source": [
    "results.to_csv(os.path.join(path_to_save, \"ExoCNN.final.probabilities.csv\"))"
   ]
  },
  {
   "cell_type": "code",
   "execution_count": 43,
   "metadata": {},
   "outputs": [
    {
     "data": {
      "text/plain": [
       "(4023, 4)"
      ]
     },
     "execution_count": 43,
     "metadata": {},
     "output_type": "execute_result"
    }
   ],
   "source": [
    "ev_extreme_results = results[results['id'].str.contains('ev')]\n",
    "ev_extreme_results = ev_extreme_results[ev_extreme_results['yes'] >= ev_extreme_results['yes'].quantile(.90)]\n",
    "ev_extreme_results.shape"
   ]
  },
  {
   "cell_type": "code",
   "execution_count": 44,
   "metadata": {},
   "outputs": [
    {
     "data": {
      "text/plain": [
       "(18730, 4)"
      ]
     },
     "execution_count": 44,
     "metadata": {},
     "output_type": "execute_result"
    }
   ],
   "source": [
    "ic_extreme_results = results[results['id'].str.contains('ic')]\n",
    "ic_extreme_results = ic_extreme_results[ic_extreme_results['no'] >= ic_extreme_results['no'].quantile(.90)]\n",
    "ic_extreme_results.shape"
   ]
  },
  {
   "cell_type": "code",
   "execution_count": 46,
   "metadata": {},
   "outputs": [],
   "source": [
    "ev_extreme_results.to_csv(os.path.join(path_to_save, \"ExoCNN.ev.extreme.90.probabilities.csv\"))"
   ]
  },
  {
   "cell_type": "code",
   "execution_count": 45,
   "metadata": {},
   "outputs": [],
   "source": [
    "ic_extreme_results.to_csv(os.path.join(path_to_save, \"ExoCNN.ic.extreme.90.probabilities.csv\"))"
   ]
  },
  {
   "cell_type": "code",
   "execution_count": 16,
   "metadata": {},
   "outputs": [],
   "source": [
    "import innvestigate\n",
    "import innvestigate.utils as iutils"
   ]
  },
  {
   "cell_type": "code",
   "execution_count": 17,
   "metadata": {},
   "outputs": [],
   "source": [
    "model_wo_sm = iutils.keras.graph.model_wo_softmax(network.model)"
   ]
  },
  {
   "cell_type": "code",
   "execution_count": 18,
   "metadata": {},
   "outputs": [],
   "source": [
    "analyzer = innvestigate.create_analyzer(\"deep_taylor.bounded\",        # analysis method identifier\n",
    "                                        model_wo_sm, # model without softmax output\n",
    "                                        low=0.0, high=1.0)"
   ]
  },
  {
   "cell_type": "code",
   "execution_count": 31,
   "metadata": {},
   "outputs": [
    {
     "data": {
      "text/plain": [
       "(4100, 500, 4)"
      ]
     },
     "execution_count": 31,
     "metadata": {},
     "output_type": "execute_result"
    }
   ],
   "source": [
    "heatmaps = analyzer.analyze(data[ic_extreme_results.index, :])\n",
    "heatmaps.shape"
   ]
  },
  {
   "cell_type": "code",
   "execution_count": 32,
   "metadata": {},
   "outputs": [],
   "source": [
    "labels_enc, _ = exoNet.utils.label_encoder(labels, {\"NO\": 0, \"YES\": 1})"
   ]
  },
  {
   "cell_type": "code",
   "execution_count": 33,
   "metadata": {},
   "outputs": [],
   "source": [
    "import keras"
   ]
  },
  {
   "cell_type": "code",
   "execution_count": 34,
   "metadata": {},
   "outputs": [],
   "source": [
    "labels_one = keras.utils.to_categorical(labels_enc, num_classes=2)"
   ]
  },
  {
   "cell_type": "code",
   "execution_count": null,
   "metadata": {},
   "outputs": [
    {
     "name": "stdout",
     "output_type": "stream",
     "text": [
      "21216/82032 [======>.......................] - ETA: 18s"
     ]
    }
   ],
   "source": [
    "network.model.evaluate(data, labels_one)"
   ]
  },
  {
   "cell_type": "code",
   "execution_count": 28,
   "metadata": {},
   "outputs": [
    {
     "data": {
      "text/plain": [
       "(4105, 500, 4)"
      ]
     },
     "execution_count": 28,
     "metadata": {},
     "output_type": "execute_result"
    }
   ],
   "source": [
    "heatmaps.shape"
   ]
  },
  {
   "cell_type": "code",
   "execution_count": 29,
   "metadata": {},
   "outputs": [],
   "source": [
    "np.save(file=\"/media/pgdrive/sharif/exosomians/data/bams/model1.ev.extremes.heatmaps.pkl\", arr=heatmaps)"
   ]
  },
  {
   "cell_type": "code",
   "execution_count": 35,
   "metadata": {},
   "outputs": [],
   "source": [
    "np.save(file=\"/media/pgdrive/sharif/exosomians/data/bams/model1.ic.extremes.heatmaps.pkl\", arr=heatmaps)"
   ]
  },
  {
   "cell_type": "code",
   "execution_count": 19,
   "metadata": {},
   "outputs": [
    {
     "data": {
      "text/plain": [
       "(4101, 2000)"
      ]
     },
     "execution_count": 19,
     "metadata": {},
     "output_type": "execute_result"
    }
   ],
   "source": [
    "heatmaps = np.reshape(heatmaps, (-1, 500*4))\n",
    "heatmaps.shape"
   ]
  },
  {
   "cell_type": "code",
   "execution_count": 22,
   "metadata": {},
   "outputs": [],
   "source": [
    "np.savetxt(X=heatmaps, fname=\"./model1.ev.extremes.heatmaps.csv\", delimiter=',')"
   ]
  },
  {
   "cell_type": "code",
   "execution_count": 13,
   "metadata": {},
   "outputs": [],
   "source": [
    "import seaborn as sns; sns.set()"
   ]
  },
  {
   "cell_type": "code",
   "execution_count": 21,
   "metadata": {},
   "outputs": [
    {
     "data": {
      "text/plain": [
       "0                             UGGGAUUGGGGAUUGGGAUUGGGA\n",
       "1                               GGUUGGGAUUGGGGAUUGGGAU\n",
       "2                                 AUUGGGAUUGGGGAUUGGGG\n",
       "3    GAUUGGGAUUGGGAUUGGGAUUGGGAUUGGGAUUGGGGAUUGGGAU...\n",
       "4                        GGCCCAGACUGGACUCCUCUUGACACGAG\n",
       "Name: seq, dtype: object"
      ]
     },
     "execution_count": 21,
     "metadata": {},
     "output_type": "execute_result"
    }
   ],
   "source": [
    "sequences = pd.read_csv(f\"./Data/{data_name}/{data_name}.design.mat.csv\")['seq']\n",
    "sequences.head()"
   ]
  },
  {
   "cell_type": "code",
   "execution_count": 22,
   "metadata": {},
   "outputs": [
    {
     "name": "stdout",
     "output_type": "stream",
     "text": [
      "UGGGAUUGGGGAUUGGGAUUGGGA\n"
     ]
    },
    {
     "data": {
      "image/png": "[encoded data removed]",
      "text/plain": [
       "<Figure size 432x288 with 2 Axes>"
      ]
     },
     "metadata": {},
     "output_type": "display_data"
    }
   ],
   "source": [
    "print(sequences[0])\n",
    "g = sns.heatmap(heatmaps[0, :35].T)"
   ]
  },
  {
   "cell_type": "code",
   "execution_count": 26,
   "metadata": {},
   "outputs": [
    {
     "name": "stdout",
     "output_type": "stream",
     "text": [
      "_________________________________________________________________\n",
      "Layer (type)                 Output Shape              Param #   \n",
      "=================================================================\n",
      "data (InputLayer)            (None, 500, 4)            0         \n",
      "_________________________________________________________________\n",
      "conv1d_1 (Conv1D)            (None, 500, 32)           1280      \n",
      "_________________________________________________________________\n",
      "batch_normalization_1 (Batch (None, 500, 32)           128       \n",
      "_________________________________________________________________\n",
      "re_lu_1 (ReLU)               (None, 500, 32)           0         \n",
      "_________________________________________________________________\n",
      "conv1d_2 (Conv1D)            (None, 500, 32)           10240     \n",
      "_________________________________________________________________\n",
      "batch_normalization_2 (Batch (None, 500, 32)           128       \n",
      "_________________________________________________________________\n",
      "re_lu_2 (ReLU)               (None, 500, 32)           0         \n",
      "_________________________________________________________________\n",
      "max_pooling1d_1 (MaxPooling1 (None, 250, 32)           0         \n",
      "_________________________________________________________________\n",
      "conv1d_3 (Conv1D)            (None, 250, 32)           7168      \n",
      "_________________________________________________________________\n",
      "batch_normalization_3 (Batch (None, 250, 32)           128       \n",
      "_________________________________________________________________\n",
      "re_lu_3 (ReLU)               (None, 250, 32)           0         \n",
      "_________________________________________________________________\n",
      "conv1d_4 (Conv1D)            (None, 250, 32)           7168      \n",
      "_________________________________________________________________\n",
      "batch_normalization_4 (Batch (None, 250, 32)           128       \n",
      "_________________________________________________________________\n",
      "re_lu_4 (ReLU)               (None, 250, 32)           0         \n",
      "_________________________________________________________________\n",
      "max_pooling1d_2 (MaxPooling1 (None, 125, 32)           0         \n",
      "_________________________________________________________________\n",
      "conv1d_5 (Conv1D)            (None, 125, 32)           4096      \n",
      "_________________________________________________________________\n",
      "batch_normalization_5 (Batch (None, 125, 32)           128       \n",
      "_________________________________________________________________\n",
      "re_lu_5 (ReLU)               (None, 125, 32)           0         \n",
      "_________________________________________________________________\n",
      "conv1d_6 (Conv1D)            (None, 125, 32)           4096      \n",
      "_________________________________________________________________\n",
      "batch_normalization_6 (Batch (None, 125, 32)           128       \n",
      "_________________________________________________________________\n",
      "re_lu_6 (ReLU)               (None, 125, 32)           0         \n",
      "_________________________________________________________________\n",
      "max_pooling1d_3 (MaxPooling1 (None, 62, 32)            0         \n",
      "_________________________________________________________________\n",
      "conv1d_7 (Conv1D)            (None, 62, 64)            6144      \n",
      "_________________________________________________________________\n",
      "batch_normalization_7 (Batch (None, 62, 64)            256       \n",
      "_________________________________________________________________\n",
      "re_lu_7 (ReLU)               (None, 62, 64)            0         \n",
      "_________________________________________________________________\n",
      "conv1d_8 (Conv1D)            (None, 62, 64)            12288     \n",
      "_________________________________________________________________\n",
      "batch_normalization_8 (Batch (None, 62, 64)            256       \n",
      "_________________________________________________________________\n",
      "re_lu_8 (ReLU)               (None, 62, 64)            0         \n",
      "_________________________________________________________________\n",
      "max_pooling1d_4 (MaxPooling1 (None, 31, 64)            0         \n",
      "_________________________________________________________________\n",
      "flatten_1 (Flatten)          (None, 1984)              0         \n",
      "_________________________________________________________________\n",
      "dense_1 (Dense)              (None, 512)               1015808   \n",
      "_________________________________________________________________\n",
      "batch_normalization_9 (Batch (None, 512)               2048      \n",
      "_________________________________________________________________\n",
      "re_lu_9 (ReLU)               (None, 512)               0         \n",
      "_________________________________________________________________\n",
      "dense_2 (Dense)              (None, 128)               65536     \n",
      "_________________________________________________________________\n",
      "batch_normalization_10 (Batc (None, 128)               512       \n",
      "_________________________________________________________________\n",
      "re_lu_10 (ReLU)              (None, 128)               0         \n",
      "_________________________________________________________________\n",
      "dense_3 (Dense)              (None, 32)                4096      \n",
      "_________________________________________________________________\n",
      "batch_normalization_11 (Batc (None, 32)                128       \n",
      "_________________________________________________________________\n",
      "re_lu_11 (ReLU)              (None, 32)                0         \n",
      "_________________________________________________________________\n",
      "dropout_1 (Dropout)          (None, 32)                0         \n",
      "_________________________________________________________________\n",
      "dense_4 (Dense)              (None, 2)                 66        \n",
      "=================================================================\n",
      "Total params: 1,141,954\n",
      "Trainable params: 1,139,970\n",
      "Non-trainable params: 1,984\n",
      "_________________________________________________________________\n"
     ]
    }
   ],
   "source": [
    "network.model.summary()"
   ]
  },
  {
   "cell_type": "code",
   "execution_count": null,
   "metadata": {},
   "outputs": [],
   "source": []
  }
 ],
 "metadata": {
  "kernelspec": {
   "display_name": "Python 3",
   "language": "python",
   "name": "python3"
  },
  "language_info": {
   "codemirror_mode": {
    "name": "ipython",
    "version": 3
   },
   "file_extension": ".py",
   "mimetype": "text/x-python",
   "name": "python",
   "nbconvert_exporter": "python",
   "pygments_lexer": "ipython3",
   "version": "3.7.3"
  }
 },
 "nbformat": 4,
 "nbformat_minor": 4
}
