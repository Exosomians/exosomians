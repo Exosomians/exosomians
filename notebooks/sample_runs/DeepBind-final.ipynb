{
 "cells": [
  {
   "cell_type": "markdown",
   "metadata": {},
   "source": [
    "# DeepBind: Sample Run for final Dataset"
   ]
  },
  {
   "cell_type": "markdown",
   "metadata": {},
   "source": [
    "# Import necessary packages"
   ]
  },
  {
   "cell_type": "code",
   "execution_count": 1,
   "metadata": {},
   "outputs": [],
   "source": [
    "import os\n",
    "os.chdir(\"../../../\")\n",
    "os.environ[\"CUDA_VISIBLE_DEVICES\"]=\"0\""
   ]
  },
  {
   "cell_type": "code",
   "execution_count": 2,
   "metadata": {},
   "outputs": [
    {
     "name": "stderr",
     "output_type": "stream",
     "text": [
      "Using TensorFlow backend.\n"
     ]
    }
   ],
   "source": [
    "import exoNet\n",
    "import scanpy as sc\n",
    "import numpy as np\n",
    "import pandas as pd\n",
    "from matplotlib import pyplot as plt"
   ]
  },
  {
   "cell_type": "markdown",
   "metadata": {},
   "source": [
    "# Data Loading and Preprocessing"
   ]
  },
  {
   "cell_type": "code",
   "execution_count": 3,
   "metadata": {},
   "outputs": [],
   "source": [
    "data_name = \"final\""
   ]
  },
  {
   "cell_type": "code",
   "execution_count": 4,
   "metadata": {},
   "outputs": [],
   "source": [
    "char_encoder = {\n",
    "    'N': -1,\n",
    "    'A': 0,\n",
    "    'C': 1,\n",
    "    'G': 2,\n",
    "    'U': 3\n",
    "}"
   ]
  },
  {
   "cell_type": "code",
   "execution_count": 5,
   "metadata": {},
   "outputs": [
    {
     "data": {
      "text/html": [
       "<div>\n",
       "<style scoped>\n",
       "    .dataframe tbody tr th:only-of-type {\n",
       "        vertical-align: middle;\n",
       "    }\n",
       "\n",
       "    .dataframe tbody tr th {\n",
       "        vertical-align: top;\n",
       "    }\n",
       "\n",
       "    .dataframe thead th {\n",
       "        text-align: right;\n",
       "    }\n",
       "</style>\n",
       "<table border=\"1\" class=\"dataframe\">\n",
       "  <thead>\n",
       "    <tr style=\"text-align: right;\">\n",
       "      <th></th>\n",
       "      <th>id</th>\n",
       "      <th>seq</th>\n",
       "      <th>dotbracket</th>\n",
       "      <th>element_string</th>\n",
       "      <th>element_string_number</th>\n",
       "    </tr>\n",
       "    <tr>\n",
       "      <th>id</th>\n",
       "      <th></th>\n",
       "      <th></th>\n",
       "      <th></th>\n",
       "      <th></th>\n",
       "      <th></th>\n",
       "    </tr>\n",
       "  </thead>\n",
       "  <tbody>\n",
       "    <tr>\n",
       "      <th>chr1_10140_10163_+_ev</th>\n",
       "      <td>chr1_10140_10163_+_ev</td>\n",
       "      <td>UGGGAUUGGGGAUUGGGAUUGGGA</td>\n",
       "      <td>........................</td>\n",
       "      <td>ffffffffffffffffffffffff</td>\n",
       "      <td>0</td>\n",
       "    </tr>\n",
       "    <tr>\n",
       "      <th>chr1_10320_10341_+_ev</th>\n",
       "      <td>chr1_10320_10341_+_ev</td>\n",
       "      <td>GGUUGGGAUUGGGGAUUGGGAU</td>\n",
       "      <td>......................</td>\n",
       "      <td>ffffffffffffffffffffff</td>\n",
       "      <td>0</td>\n",
       "    </tr>\n",
       "    <tr>\n",
       "      <th>chr1_10381_10400_+_ev</th>\n",
       "      <td>chr1_10381_10400_+_ev</td>\n",
       "      <td>AUUGGGAUUGGGGAUUGGGG</td>\n",
       "      <td>....................</td>\n",
       "      <td>ffffffffffffffffffff</td>\n",
       "      <td>0</td>\n",
       "    </tr>\n",
       "    <tr>\n",
       "      <th>chr1_10496_10524_+_ev</th>\n",
       "      <td>chr1_10496_10524_+_ev</td>\n",
       "      <td>GGCCCAGACUGGACUCCUCUUGACACGAG</td>\n",
       "      <td>((.(((...)))...))............</td>\n",
       "      <td>ssissshhhsssiiisstttttttttttt</td>\n",
       "      <td>11100011100000000262799360</td>\n",
       "    </tr>\n",
       "    <tr>\n",
       "      <th>chr1_10749_10778_+_ev</th>\n",
       "      <td>chr1_10749_10778_+_ev</td>\n",
       "      <td>GCGGCGCGGCCGCGUCCGCGUCUCUCCGCG</td>\n",
       "      <td>(((((((((......))))).....)))).</td>\n",
       "      <td>ssssssssshhhhhhsssssiiiiisssst</td>\n",
       "      <td>11111000000111111032537088</td>\n",
       "    </tr>\n",
       "  </tbody>\n",
       "</table>\n",
       "</div>"
      ],
      "text/plain": [
       "                                          id                             seq  \\\n",
       "id                                                                             \n",
       "chr1_10140_10163_+_ev  chr1_10140_10163_+_ev        UGGGAUUGGGGAUUGGGAUUGGGA   \n",
       "chr1_10320_10341_+_ev  chr1_10320_10341_+_ev          GGUUGGGAUUGGGGAUUGGGAU   \n",
       "chr1_10381_10400_+_ev  chr1_10381_10400_+_ev            AUUGGGAUUGGGGAUUGGGG   \n",
       "chr1_10496_10524_+_ev  chr1_10496_10524_+_ev   GGCCCAGACUGGACUCCUCUUGACACGAG   \n",
       "chr1_10749_10778_+_ev  chr1_10749_10778_+_ev  GCGGCGCGGCCGCGUCCGCGUCUCUCCGCG   \n",
       "\n",
       "                                           dotbracket  \\\n",
       "id                                                      \n",
       "chr1_10140_10163_+_ev        ........................   \n",
       "chr1_10320_10341_+_ev          ......................   \n",
       "chr1_10381_10400_+_ev            ....................   \n",
       "chr1_10496_10524_+_ev   ((.(((...)))...))............   \n",
       "chr1_10749_10778_+_ev  (((((((((......))))).....)))).   \n",
       "\n",
       "                                       element_string  \\\n",
       "id                                                      \n",
       "chr1_10140_10163_+_ev        ffffffffffffffffffffffff   \n",
       "chr1_10320_10341_+_ev          ffffffffffffffffffffff   \n",
       "chr1_10381_10400_+_ev            ffffffffffffffffffff   \n",
       "chr1_10496_10524_+_ev   ssissshhhsssiiisstttttttttttt   \n",
       "chr1_10749_10778_+_ev  ssssssssshhhhhhsssssiiiiisssst   \n",
       "\n",
       "                            element_string_number  \n",
       "id                                                 \n",
       "chr1_10140_10163_+_ev                           0  \n",
       "chr1_10320_10341_+_ev                           0  \n",
       "chr1_10381_10400_+_ev                           0  \n",
       "chr1_10496_10524_+_ev  11100011100000000262799360  \n",
       "chr1_10749_10778_+_ev  11111000000111111032537088  "
      ]
     },
     "execution_count": 5,
     "metadata": {},
     "output_type": "execute_result"
    }
   ],
   "source": [
    "raw_df = pd.read_csv(f\"./Data/{data_name}/{data_name}.design.mat.shortened.csv\")\n",
    "raw_df.index = raw_df['id']\n",
    "raw_df.head()"
   ]
  },
  {
   "cell_type": "code",
   "execution_count": 6,
   "metadata": {},
   "outputs": [
    {
     "data": {
      "text/plain": [
       "(80841, 50, 4)"
      ]
     },
     "execution_count": 6,
     "metadata": {},
     "output_type": "execute_result"
    }
   ],
   "source": [
    "data = np.load(f\"./Data/{data_name}/sequences.npy\", allow_pickle=True)\n",
    "data = data[:, :, :4]\n",
    "data.shape"
   ]
  },
  {
   "cell_type": "code",
   "execution_count": 7,
   "metadata": {},
   "outputs": [
    {
     "data": {
      "text/plain": [
       "(80841,)"
      ]
     },
     "execution_count": 7,
     "metadata": {},
     "output_type": "execute_result"
    }
   ],
   "source": [
    "labels = np.load(f\"./Data/{data_name}/labels.npy\", allow_pickle=True)\n",
    "labels = np.reshape(labels, (-1,))\n",
    "labels.shape"
   ]
  },
  {
   "cell_type": "markdown",
   "metadata": {},
   "source": [
    "# Model Instatiation"
   ]
  },
  {
   "cell_type": "code",
   "execution_count": 8,
   "metadata": {},
   "outputs": [
    {
     "name": "stdout",
     "output_type": "stream",
     "text": [
      "WARNING:tensorflow:From /home/mohsen/anaconda3/envs/mohsen/lib/python3.7/site-packages/tensorflow/python/framework/op_def_library.py:263: colocate_with (from tensorflow.python.framework.ops) is deprecated and will be removed in a future version.\n",
      "Instructions for updating:\n",
      "Colocations handled automatically by placer.\n",
      "WARNING:tensorflow:From /home/mohsen/anaconda3/envs/mohsen/lib/python3.7/site-packages/keras/backend/tensorflow_backend.py:3445: calling dropout (from tensorflow.python.ops.nn_ops) with keep_prob is deprecated and will be removed in a future version.\n",
      "Instructions for updating:\n",
      "Please use `rate` instead of `keep_prob`. Rate should be set to `rate = 1 - keep_prob`.\n",
      "_________________________________________________________________\n",
      "Layer (type)                 Output Shape              Param #   \n",
      "=================================================================\n",
      "data (InputLayer)            (None, 50, 4)             0         \n",
      "_________________________________________________________________\n",
      "conv1d_1 (Conv1D)            (None, 41, 32)            1280      \n",
      "_________________________________________________________________\n",
      "batch_normalization_1 (Batch (None, 41, 32)            128       \n",
      "_________________________________________________________________\n",
      "re_lu_1 (ReLU)               (None, 41, 32)            0         \n",
      "_________________________________________________________________\n",
      "max_pooling1d_1 (MaxPooling1 (None, 1, 32)             0         \n",
      "_________________________________________________________________\n",
      "flatten_1 (Flatten)          (None, 32)                0         \n",
      "_________________________________________________________________\n",
      "dense_1 (Dense)              (None, 16)                512       \n",
      "_________________________________________________________________\n",
      "batch_normalization_2 (Batch (None, 16)                64        \n",
      "_________________________________________________________________\n",
      "re_lu_2 (ReLU)               (None, 16)                0         \n",
      "_________________________________________________________________\n",
      "dropout_1 (Dropout)          (None, 16)                0         \n",
      "_________________________________________________________________\n",
      "dense_2 (Dense)              (None, 2)                 34        \n",
      "=================================================================\n",
      "Total params: 2,018\n",
      "Trainable params: 1,922\n",
      "Non-trainable params: 96\n",
      "_________________________________________________________________\n"
     ]
    }
   ],
   "source": [
    "network = exoNet.models.DeepBind(seq_len=data.shape[1],\n",
    "                                 n_channels=data.shape[2],\n",
    "                                 n_classes=2,\n",
    "                                 padding='valid',\n",
    "                                 use_batchnorm=True,\n",
    "                                 lr=0.001,\n",
    "                                 model_path=f\"./models/DeepBind/{data_name}/\",\n",
    "                                 dropout_rate=0.1,\n",
    "                                )"
   ]
  },
  {
   "cell_type": "code",
   "execution_count": 18,
   "metadata": {},
   "outputs": [],
   "source": [
    "labels_enc, _ = exoNet.utils.label_encoder(labels, {\"NO\": 0, \"YES\": 1})"
   ]
  },
  {
   "cell_type": "code",
   "execution_count": 19,
   "metadata": {},
   "outputs": [],
   "source": [
    "labels_enc = np.reshape(labels_enc, (-1,))"
   ]
  },
  {
   "cell_type": "code",
   "execution_count": 16,
   "metadata": {},
   "outputs": [],
   "source": [
    "import keras\n",
    "labels_one = keras.utils.to_categorical(labels_enc, num_classes=2)"
   ]
  },
  {
   "cell_type": "code",
   "execution_count": 16,
   "metadata": {},
   "outputs": [],
   "source": [
    "predictions = network.model.predict(data)"
   ]
  },
  {
   "cell_type": "code",
   "execution_count": 20,
   "metadata": {},
   "outputs": [
    {
     "data": {
      "text/plain": [
       "0.8354590677641266"
      ]
     },
     "execution_count": 20,
     "metadata": {},
     "output_type": "execute_result"
    }
   ],
   "source": [
    "true_positives = np.sum(np.round(np.clip(labels_enc * np.argmax(predictions, axis=1), 0, 1)))\n",
    "all_positives = np.sum(np.round(np.clip(labels_enc, 0, 1)))\n",
    "true_positives / (all_positives + 1e-3)"
   ]
  },
  {
   "cell_type": "code",
   "execution_count": 9,
   "metadata": {},
   "outputs": [
    {
     "name": "stdout",
     "output_type": "stream",
     "text": [
      "WARNING:tensorflow:From /home/mohsen/anaconda3/envs/mohsen/lib/python3.7/site-packages/tensorflow/python/ops/math_ops.py:3066: to_int32 (from tensorflow.python.ops.math_ops) is deprecated and will be removed in a future version.\n",
      "Instructions for updating:\n",
      "Use tf.cast instead.\n",
      "Train on 64672 samples, validate on 16169 samples\n",
      "Epoch 1/1000\n",
      " - 10s - loss: 0.6622 - acc: 0.6253 - sensitivity: 0.6288 - specificity: 0.6222 - val_loss: 0.9308 - val_acc: 0.5415 - val_sensitivity: 0.1018 - val_specificity: 0.9769\n",
      "Epoch 2/1000\n",
      " - 2s - loss: 0.5669 - acc: 0.7119 - sensitivity: 0.7145 - specificity: 0.7103 - val_loss: 0.8088 - val_acc: 0.5858 - val_sensitivity: 0.2114 - val_specificity: 0.9566\n",
      "Epoch 3/1000\n",
      " - 2s - loss: 0.5284 - acc: 0.7400 - sensitivity: 0.7611 - specificity: 0.7201 - val_loss: 0.7089 - val_acc: 0.6327 - val_sensitivity: 0.3294 - val_specificity: 0.9330\n",
      "Epoch 4/1000\n",
      " - 2s - loss: 0.5024 - acc: 0.7591 - sensitivity: 0.7865 - specificity: 0.7328 - val_loss: 0.6312 - val_acc: 0.6807 - val_sensitivity: 0.4562 - val_specificity: 0.9033\n",
      "Epoch 5/1000\n",
      " - 2s - loss: 0.4890 - acc: 0.7668 - sensitivity: 0.7947 - specificity: 0.7400 - val_loss: 0.5419 - val_acc: 0.7318 - val_sensitivity: 0.6162 - val_specificity: 0.8467\n",
      "Epoch 6/1000\n",
      " - 2s - loss: 0.4791 - acc: 0.7725 - sensitivity: 0.8043 - specificity: 0.7418 - val_loss: 0.5116 - val_acc: 0.7532 - val_sensitivity: 0.6940 - val_specificity: 0.8121\n",
      "Epoch 7/1000\n",
      " - 2s - loss: 0.4727 - acc: 0.7777 - sensitivity: 0.8078 - specificity: 0.7491 - val_loss: 0.5030 - val_acc: 0.7590 - val_sensitivity: 0.6980 - val_specificity: 0.8200\n",
      "Epoch 8/1000\n",
      " - 2s - loss: 0.4675 - acc: 0.7825 - sensitivity: 0.8128 - specificity: 0.7532 - val_loss: 0.4931 - val_acc: 0.7636 - val_sensitivity: 0.7232 - val_specificity: 0.8040\n",
      "Epoch 9/1000\n",
      " - 2s - loss: 0.4629 - acc: 0.7855 - sensitivity: 0.8166 - specificity: 0.7552 - val_loss: 0.4901 - val_acc: 0.7665 - val_sensitivity: 0.7197 - val_specificity: 0.8132\n",
      "Epoch 10/1000\n",
      " - 2s - loss: 0.4597 - acc: 0.7871 - sensitivity: 0.8171 - specificity: 0.7582 - val_loss: 0.4885 - val_acc: 0.7680 - val_sensitivity: 0.7137 - val_specificity: 0.8223\n",
      "Epoch 11/1000\n",
      " - 2s - loss: 0.4560 - acc: 0.7886 - sensitivity: 0.8209 - specificity: 0.7576 - val_loss: 0.4770 - val_acc: 0.7736 - val_sensitivity: 0.7621 - val_specificity: 0.7853\n",
      "Epoch 12/1000\n",
      " - 2s - loss: 0.4534 - acc: 0.7908 - sensitivity: 0.8214 - specificity: 0.7614 - val_loss: 0.4702 - val_acc: 0.7808 - val_sensitivity: 0.8086 - val_specificity: 0.7537\n",
      "Epoch 13/1000\n",
      " - 2s - loss: 0.4515 - acc: 0.7923 - sensitivity: 0.8225 - specificity: 0.7631 - val_loss: 0.4710 - val_acc: 0.7770 - val_sensitivity: 0.7765 - val_specificity: 0.7780\n",
      "Epoch 14/1000\n",
      " - 2s - loss: 0.4498 - acc: 0.7930 - sensitivity: 0.8238 - specificity: 0.7635 - val_loss: 0.4703 - val_acc: 0.7803 - val_sensitivity: 0.8204 - val_specificity: 0.7408\n",
      "Epoch 15/1000\n",
      " - 2s - loss: 0.4476 - acc: 0.7943 - sensitivity: 0.8220 - specificity: 0.7677 - val_loss: 0.4673 - val_acc: 0.7819 - val_sensitivity: 0.8196 - val_specificity: 0.7449\n",
      "Epoch 16/1000\n",
      " - 2s - loss: 0.4464 - acc: 0.7951 - sensitivity: 0.8227 - specificity: 0.7688 - val_loss: 0.4687 - val_acc: 0.7799 - val_sensitivity: 0.7732 - val_specificity: 0.7871\n",
      "Epoch 17/1000\n",
      " - 2s - loss: 0.4447 - acc: 0.7937 - sensitivity: 0.8231 - specificity: 0.7654 - val_loss: 0.4675 - val_acc: 0.7811 - val_sensitivity: 0.7885 - val_specificity: 0.7741\n",
      "Epoch 18/1000\n",
      " - 2s - loss: 0.4424 - acc: 0.7972 - sensitivity: 0.8239 - specificity: 0.7714 - val_loss: 0.4669 - val_acc: 0.7804 - val_sensitivity: 0.8011 - val_specificity: 0.7604\n",
      "Epoch 19/1000\n",
      " - 2s - loss: 0.4409 - acc: 0.7979 - sensitivity: 0.8228 - specificity: 0.7738 - val_loss: 0.4674 - val_acc: 0.7817 - val_sensitivity: 0.8534 - val_specificity: 0.7109\n",
      "Epoch 20/1000\n",
      " - 2s - loss: 0.4408 - acc: 0.7977 - sensitivity: 0.8289 - specificity: 0.7678 - val_loss: 0.4716 - val_acc: 0.7769 - val_sensitivity: 0.7545 - val_specificity: 0.7994\n",
      "Epoch 21/1000\n",
      " - 2s - loss: 0.4386 - acc: 0.7990 - sensitivity: 0.8242 - specificity: 0.7747 - val_loss: 0.4631 - val_acc: 0.7834 - val_sensitivity: 0.8320 - val_specificity: 0.7355\n",
      "Epoch 22/1000\n",
      " - 2s - loss: 0.4376 - acc: 0.7992 - sensitivity: 0.8265 - specificity: 0.7732 - val_loss: 0.4663 - val_acc: 0.7821 - val_sensitivity: 0.7595 - val_specificity: 0.8048\n",
      "Epoch 23/1000\n",
      " - 2s - loss: 0.4375 - acc: 0.7993 - sensitivity: 0.8247 - specificity: 0.7749 - val_loss: 0.4607 - val_acc: 0.7859 - val_sensitivity: 0.8014 - val_specificity: 0.7708\n",
      "Epoch 24/1000\n",
      " - 2s - loss: 0.4356 - acc: 0.8007 - sensitivity: 0.8252 - specificity: 0.7771 - val_loss: 0.4603 - val_acc: 0.7845 - val_sensitivity: 0.7994 - val_specificity: 0.7700\n",
      "Epoch 25/1000\n",
      " - 2s - loss: 0.4355 - acc: 0.8005 - sensitivity: 0.8255 - specificity: 0.7765 - val_loss: 0.4601 - val_acc: 0.7842 - val_sensitivity: 0.8015 - val_specificity: 0.7673\n",
      "Epoch 26/1000\n",
      " - 2s - loss: 0.4333 - acc: 0.8017 - sensitivity: 0.8269 - specificity: 0.7776 - val_loss: 0.4606 - val_acc: 0.7855 - val_sensitivity: 0.8110 - val_specificity: 0.7606\n",
      "Epoch 27/1000\n",
      " - 2s - loss: 0.4341 - acc: 0.8008 - sensitivity: 0.8256 - specificity: 0.7768 - val_loss: 0.4611 - val_acc: 0.7827 - val_sensitivity: 0.7870 - val_specificity: 0.7787\n",
      "Epoch 28/1000\n",
      " - 2s - loss: 0.4325 - acc: 0.8018 - sensitivity: 0.8259 - specificity: 0.7789 - val_loss: 0.4607 - val_acc: 0.7838 - val_sensitivity: 0.8144 - val_specificity: 0.7537\n",
      "Epoch 29/1000\n",
      " - 2s - loss: 0.4310 - acc: 0.8024 - sensitivity: 0.8259 - specificity: 0.7797 - val_loss: 0.4643 - val_acc: 0.7829 - val_sensitivity: 0.8589 - val_specificity: 0.7077\n",
      "Epoch 30/1000\n",
      " - 2s - loss: 0.4316 - acc: 0.8034 - sensitivity: 0.8253 - specificity: 0.7825 - val_loss: 0.4584 - val_acc: 0.7865 - val_sensitivity: 0.8077 - val_specificity: 0.7659\n",
      "Epoch 31/1000\n",
      " - 2s - loss: 0.4300 - acc: 0.8036 - sensitivity: 0.8281 - specificity: 0.7802 - val_loss: 0.4576 - val_acc: 0.7881 - val_sensitivity: 0.8339 - val_specificity: 0.7428\n",
      "Epoch 32/1000\n",
      " - 2s - loss: 0.4298 - acc: 0.8024 - sensitivity: 0.8250 - specificity: 0.7806 - val_loss: 0.4587 - val_acc: 0.7894 - val_sensitivity: 0.8200 - val_specificity: 0.7592\n",
      "Epoch 33/1000\n",
      " - 2s - loss: 0.4295 - acc: 0.8046 - sensitivity: 0.8285 - specificity: 0.7815 - val_loss: 0.4589 - val_acc: 0.7861 - val_sensitivity: 0.8292 - val_specificity: 0.7437\n",
      "Epoch 34/1000\n",
      " - 2s - loss: 0.4280 - acc: 0.8053 - sensitivity: 0.8284 - specificity: 0.7831 - val_loss: 0.4578 - val_acc: 0.7889 - val_sensitivity: 0.8109 - val_specificity: 0.7671\n",
      "Epoch 35/1000\n",
      " - 2s - loss: 0.4268 - acc: 0.8052 - sensitivity: 0.8278 - specificity: 0.7836 - val_loss: 0.4629 - val_acc: 0.7860 - val_sensitivity: 0.7643 - val_specificity: 0.8076\n",
      "Epoch 36/1000\n",
      " - 2s - loss: 0.4287 - acc: 0.8054 - sensitivity: 0.8289 - specificity: 0.7832 - val_loss: 0.4567 - val_acc: 0.7896 - val_sensitivity: 0.8011 - val_specificity: 0.7784\n",
      "Epoch 37/1000\n",
      " - 2s - loss: 0.4280 - acc: 0.8052 - sensitivity: 0.8284 - specificity: 0.7832 - val_loss: 0.4581 - val_acc: 0.7889 - val_sensitivity: 0.8483 - val_specificity: 0.7303\n",
      "Epoch 38/1000\n",
      " - 2s - loss: 0.4269 - acc: 0.8064 - sensitivity: 0.8303 - specificity: 0.7833 - val_loss: 0.4575 - val_acc: 0.7878 - val_sensitivity: 0.7974 - val_specificity: 0.7784\n",
      "Epoch 39/1000\n",
      " - 2s - loss: 0.4259 - acc: 0.8056 - sensitivity: 0.8265 - specificity: 0.7858 - val_loss: 0.4564 - val_acc: 0.7890 - val_sensitivity: 0.8044 - val_specificity: 0.7739\n",
      "Epoch 40/1000\n",
      " - 2s - loss: 0.4261 - acc: 0.8067 - sensitivity: 0.8291 - specificity: 0.7853 - val_loss: 0.4578 - val_acc: 0.7895 - val_sensitivity: 0.8406 - val_specificity: 0.7392\n",
      "Epoch 41/1000\n",
      " - 2s - loss: 0.4253 - acc: 0.8062 - sensitivity: 0.8321 - specificity: 0.7814 - val_loss: 0.4569 - val_acc: 0.7893 - val_sensitivity: 0.8255 - val_specificity: 0.7535\n",
      "Epoch 42/1000\n",
      " - 2s - loss: 0.4254 - acc: 0.8062 - sensitivity: 0.8287 - specificity: 0.7848 - val_loss: 0.4574 - val_acc: 0.7905 - val_sensitivity: 0.8397 - val_specificity: 0.7421\n",
      "Epoch 43/1000\n",
      " - 2s - loss: 0.4248 - acc: 0.8073 - sensitivity: 0.8303 - specificity: 0.7851 - val_loss: 0.4552 - val_acc: 0.7918 - val_sensitivity: 0.8204 - val_specificity: 0.7638\n",
      "Epoch 44/1000\n",
      " - 2s - loss: 0.4255 - acc: 0.8070 - sensitivity: 0.8272 - specificity: 0.7881 - val_loss: 0.4627 - val_acc: 0.7859 - val_sensitivity: 0.8719 - val_specificity: 0.7010\n",
      "Epoch 45/1000\n",
      " - 2s - loss: 0.4264 - acc: 0.8050 - sensitivity: 0.8295 - specificity: 0.7820 - val_loss: 0.4547 - val_acc: 0.7904 - val_sensitivity: 0.8356 - val_specificity: 0.7458\n",
      "Epoch 46/1000\n",
      " - 2s - loss: 0.4246 - acc: 0.8054 - sensitivity: 0.8281 - specificity: 0.7840 - val_loss: 0.4561 - val_acc: 0.7907 - val_sensitivity: 0.8003 - val_specificity: 0.7815\n",
      "Epoch 47/1000\n",
      " - 2s - loss: 0.4250 - acc: 0.8064 - sensitivity: 0.8313 - specificity: 0.7826 - val_loss: 0.4547 - val_acc: 0.7919 - val_sensitivity: 0.8011 - val_specificity: 0.7831\n",
      "Epoch 48/1000\n",
      " - 2s - loss: 0.4240 - acc: 0.8065 - sensitivity: 0.8294 - specificity: 0.7850 - val_loss: 0.4550 - val_acc: 0.7905 - val_sensitivity: 0.8074 - val_specificity: 0.7739\n",
      "Epoch 49/1000\n",
      " - 2s - loss: 0.4233 - acc: 0.8073 - sensitivity: 0.8311 - specificity: 0.7847 - val_loss: 0.4547 - val_acc: 0.7911 - val_sensitivity: 0.8146 - val_specificity: 0.7682\n",
      "Epoch 50/1000\n",
      " - 2s - loss: 0.4230 - acc: 0.8071 - sensitivity: 0.8293 - specificity: 0.7861 - val_loss: 0.4545 - val_acc: 0.7920 - val_sensitivity: 0.7995 - val_specificity: 0.7848\n",
      "Epoch 51/1000\n",
      " - 2s - loss: 0.4235 - acc: 0.8076 - sensitivity: 0.8314 - specificity: 0.7849 - val_loss: 0.4555 - val_acc: 0.7916 - val_sensitivity: 0.7963 - val_specificity: 0.7873\n",
      "Epoch 52/1000\n",
      " - 2s - loss: 0.4229 - acc: 0.8074 - sensitivity: 0.8311 - specificity: 0.7846 - val_loss: 0.4549 - val_acc: 0.7913 - val_sensitivity: 0.8012 - val_specificity: 0.7818\n",
      "Epoch 53/1000\n",
      " - 2s - loss: 0.4222 - acc: 0.8084 - sensitivity: 0.8312 - specificity: 0.7866 - val_loss: 0.4563 - val_acc: 0.7926 - val_sensitivity: 0.7864 - val_specificity: 0.7989\n",
      "Epoch 54/1000\n",
      " - 2s - loss: 0.4223 - acc: 0.8079 - sensitivity: 0.8296 - specificity: 0.7874 - val_loss: 0.4526 - val_acc: 0.7950 - val_sensitivity: 0.8211 - val_specificity: 0.7693\n",
      "Epoch 55/1000\n",
      " - 2s - loss: 0.4218 - acc: 0.8089 - sensitivity: 0.8324 - specificity: 0.7863 - val_loss: 0.4570 - val_acc: 0.7910 - val_sensitivity: 0.7772 - val_specificity: 0.8047\n",
      "Epoch 56/1000\n",
      " - 2s - loss: 0.4220 - acc: 0.8071 - sensitivity: 0.8281 - specificity: 0.7873 - val_loss: 0.4533 - val_acc: 0.7928 - val_sensitivity: 0.8030 - val_specificity: 0.7828\n",
      "Epoch 57/1000\n",
      " - 2s - loss: 0.4215 - acc: 0.8083 - sensitivity: 0.8316 - specificity: 0.7861 - val_loss: 0.4548 - val_acc: 0.7922 - val_sensitivity: 0.8415 - val_specificity: 0.7433\n",
      "Epoch 58/1000\n",
      " - 2s - loss: 0.4216 - acc: 0.8084 - sensitivity: 0.8299 - specificity: 0.7882 - val_loss: 0.4557 - val_acc: 0.7915 - val_sensitivity: 0.7806 - val_specificity: 0.8026\n",
      "Epoch 59/1000\n",
      " - 2s - loss: 0.4213 - acc: 0.8092 - sensitivity: 0.8307 - specificity: 0.7888 - val_loss: 0.4526 - val_acc: 0.7940 - val_sensitivity: 0.8270 - val_specificity: 0.7614\n",
      "Epoch 60/1000\n",
      " - 2s - loss: 0.4218 - acc: 0.8077 - sensitivity: 0.8311 - specificity: 0.7852 - val_loss: 0.4532 - val_acc: 0.7925 - val_sensitivity: 0.7984 - val_specificity: 0.7869\n",
      "Epoch 61/1000\n",
      " - 2s - loss: 0.4208 - acc: 0.8089 - sensitivity: 0.8322 - specificity: 0.7866 - val_loss: 0.4519 - val_acc: 0.7944 - val_sensitivity: 0.8270 - val_specificity: 0.7626\n",
      "Epoch 62/1000\n",
      " - 2s - loss: 0.4213 - acc: 0.8086 - sensitivity: 0.8313 - specificity: 0.7871 - val_loss: 0.4535 - val_acc: 0.7930 - val_sensitivity: 0.8202 - val_specificity: 0.7662\n",
      "Epoch 63/1000\n",
      " - 2s - loss: 0.4211 - acc: 0.8083 - sensitivity: 0.8309 - specificity: 0.7866 - val_loss: 0.4530 - val_acc: 0.7942 - val_sensitivity: 0.8242 - val_specificity: 0.7646\n",
      "Epoch 64/1000\n",
      " - 2s - loss: 0.4199 - acc: 0.8095 - sensitivity: 0.8311 - specificity: 0.7890 - val_loss: 0.4523 - val_acc: 0.7938 - val_sensitivity: 0.8312 - val_specificity: 0.7569\n",
      "Epoch 65/1000\n",
      " - 2s - loss: 0.4195 - acc: 0.8092 - sensitivity: 0.8300 - specificity: 0.7893 - val_loss: 0.4537 - val_acc: 0.7923 - val_sensitivity: 0.8159 - val_specificity: 0.7691\n",
      "Epoch 66/1000\n",
      " - 2s - loss: 0.4203 - acc: 0.8087 - sensitivity: 0.8308 - specificity: 0.7878 - val_loss: 0.4518 - val_acc: 0.7944 - val_sensitivity: 0.8237 - val_specificity: 0.7655\n",
      "Epoch 67/1000\n",
      " - 2s - loss: 0.4200 - acc: 0.8090 - sensitivity: 0.8327 - specificity: 0.7864 - val_loss: 0.4508 - val_acc: 0.7945 - val_sensitivity: 0.8014 - val_specificity: 0.7878\n",
      "Epoch 68/1000\n",
      " - 2s - loss: 0.4198 - acc: 0.8094 - sensitivity: 0.8313 - specificity: 0.7886 - val_loss: 0.4537 - val_acc: 0.7941 - val_sensitivity: 0.7945 - val_specificity: 0.7938\n",
      "Epoch 69/1000\n",
      " - 2s - loss: 0.4195 - acc: 0.8095 - sensitivity: 0.8329 - specificity: 0.7872 - val_loss: 0.4549 - val_acc: 0.7928 - val_sensitivity: 0.7791 - val_specificity: 0.8065\n",
      "Epoch 70/1000\n",
      " - 2s - loss: 0.4192 - acc: 0.8089 - sensitivity: 0.8319 - specificity: 0.7872 - val_loss: 0.4525 - val_acc: 0.7942 - val_sensitivity: 0.8056 - val_specificity: 0.7832\n",
      "Epoch 71/1000\n",
      " - 2s - loss: 0.4195 - acc: 0.8075 - sensitivity: 0.8289 - specificity: 0.7871 - val_loss: 0.4513 - val_acc: 0.7941 - val_sensitivity: 0.8145 - val_specificity: 0.7741\n",
      "Epoch 72/1000\n",
      " - 2s - loss: 0.4187 - acc: 0.8094 - sensitivity: 0.8313 - specificity: 0.7887 - val_loss: 0.4520 - val_acc: 0.7934 - val_sensitivity: 0.8281 - val_specificity: 0.7592\n",
      "Epoch 73/1000\n",
      " - 2s - loss: 0.4185 - acc: 0.8105 - sensitivity: 0.8317 - specificity: 0.7902 - val_loss: 0.4530 - val_acc: 0.7949 - val_sensitivity: 0.8084 - val_specificity: 0.7817\n",
      "Epoch 74/1000\n",
      " - 2s - loss: 0.4193 - acc: 0.8087 - sensitivity: 0.8302 - specificity: 0.7880 - val_loss: 0.4525 - val_acc: 0.7944 - val_sensitivity: 0.8030 - val_specificity: 0.7860\n",
      "Epoch 75/1000\n",
      " - 2s - loss: 0.4186 - acc: 0.8096 - sensitivity: 0.8314 - specificity: 0.7888 - val_loss: 0.4545 - val_acc: 0.7924 - val_sensitivity: 0.8453 - val_specificity: 0.7399\n",
      "Epoch 76/1000\n",
      " - 2s - loss: 0.4188 - acc: 0.8090 - sensitivity: 0.8329 - specificity: 0.7863 - val_loss: 0.4527 - val_acc: 0.7935 - val_sensitivity: 0.7934 - val_specificity: 0.7938\n",
      "Epoch 77/1000\n",
      " - 2s - loss: 0.4187 - acc: 0.8094 - sensitivity: 0.8316 - specificity: 0.7884 - val_loss: 0.4510 - val_acc: 0.7941 - val_sensitivity: 0.8151 - val_specificity: 0.7734\n"
     ]
    }
   ],
   "source": [
    "network.train(data,\n",
    "              labels, \n",
    "              le={\"NO\": 0, \"YES\": 1},\n",
    "              n_epochs=1000,\n",
    "              batch_size=512,\n",
    "              early_stopping_kwargs={\"patience\": 10, \"monitor\": \"val_loss\"},\n",
    "              save=True,\n",
    "              )"
   ]
  },
  {
   "cell_type": "code",
   "execution_count": 73,
   "metadata": {},
   "outputs": [],
   "source": [
    "network.model.save_weights(\"./models/DeepBind/final/weights.h5\")"
   ]
  },
  {
   "cell_type": "code",
   "execution_count": 14,
   "metadata": {},
   "outputs": [],
   "source": [
    "network.model.load_weights(\"./models/DeepBind/final/weights.h5\")"
   ]
  },
  {
   "cell_type": "code",
   "execution_count": 10,
   "metadata": {},
   "outputs": [],
   "source": [
    "# os.makedirs('./models/DeepBind/final/', exist_ok=True)"
   ]
  },
  {
   "cell_type": "code",
   "execution_count": 10,
   "metadata": {},
   "outputs": [],
   "source": [
    "network.save_model()"
   ]
  },
  {
   "cell_type": "code",
   "execution_count": 21,
   "metadata": {},
   "outputs": [
    {
     "data": {
      "text/html": [
       "<div>\n",
       "<style scoped>\n",
       "    .dataframe tbody tr th:only-of-type {\n",
       "        vertical-align: middle;\n",
       "    }\n",
       "\n",
       "    .dataframe tbody tr th {\n",
       "        vertical-align: top;\n",
       "    }\n",
       "\n",
       "    .dataframe thead th {\n",
       "        text-align: right;\n",
       "    }\n",
       "</style>\n",
       "<table border=\"1\" class=\"dataframe\">\n",
       "  <thead>\n",
       "    <tr style=\"text-align: right;\">\n",
       "      <th></th>\n",
       "      <th>id</th>\n",
       "      <th>no</th>\n",
       "      <th>yes</th>\n",
       "    </tr>\n",
       "  </thead>\n",
       "  <tbody>\n",
       "    <tr>\n",
       "      <th>0</th>\n",
       "      <td>chr1_10140_10163_+_ev</td>\n",
       "      <td>0.065920</td>\n",
       "      <td>0.934080</td>\n",
       "    </tr>\n",
       "    <tr>\n",
       "      <th>1</th>\n",
       "      <td>chr1_10320_10341_+_ev</td>\n",
       "      <td>0.073277</td>\n",
       "      <td>0.926723</td>\n",
       "    </tr>\n",
       "    <tr>\n",
       "      <th>2</th>\n",
       "      <td>chr1_10381_10400_+_ev</td>\n",
       "      <td>0.030033</td>\n",
       "      <td>0.969967</td>\n",
       "    </tr>\n",
       "    <tr>\n",
       "      <th>3</th>\n",
       "      <td>chr1_10496_10524_+_ev</td>\n",
       "      <td>0.790471</td>\n",
       "      <td>0.209529</td>\n",
       "    </tr>\n",
       "    <tr>\n",
       "      <th>4</th>\n",
       "      <td>chr1_10749_10778_+_ev</td>\n",
       "      <td>0.653369</td>\n",
       "      <td>0.346630</td>\n",
       "    </tr>\n",
       "  </tbody>\n",
       "</table>\n",
       "</div>"
      ],
      "text/plain": [
       "                      id        no       yes\n",
       "0  chr1_10140_10163_+_ev  0.065920  0.934080\n",
       "1  chr1_10320_10341_+_ev  0.073277  0.926723\n",
       "2  chr1_10381_10400_+_ev  0.030033  0.969967\n",
       "3  chr1_10496_10524_+_ev  0.790471  0.209529\n",
       "4  chr1_10749_10778_+_ev  0.653369  0.346630"
      ]
     },
     "execution_count": 21,
     "metadata": {},
     "output_type": "execute_result"
    }
   ],
   "source": [
    "results = pd.DataFrame({'id': raw_df['id'].values, 'no': predictions[:, 0], 'yes': predictions[:, 1]})\n",
    "results.head()"
   ]
  },
  {
   "cell_type": "code",
   "execution_count": 61,
   "metadata": {},
   "outputs": [],
   "source": [
    "results.to_csv(\"/media/pgdrive/sharif/exosomians/data/bams/deepbind.all.predictions.csv\")"
   ]
  },
  {
   "cell_type": "code",
   "execution_count": 22,
   "metadata": {},
   "outputs": [
    {
     "data": {
      "text/plain": [
       "(4023, 3)"
      ]
     },
     "execution_count": 22,
     "metadata": {},
     "output_type": "execute_result"
    }
   ],
   "source": [
    "ev_extreme_results = results[results['id'].str.contains('ev')]\n",
    "ev_extreme_results = ev_extreme_results[ev_extreme_results['yes'] >= ev_extreme_results['yes'].quantile(.9)]\n",
    "ev_extreme_results.shape"
   ]
  },
  {
   "cell_type": "code",
   "execution_count": 67,
   "metadata": {},
   "outputs": [],
   "source": [
    "ev_extreme_results.to_csv(\"/media/pgdrive/sharif/exosomians/data/bams/deepbind.ev.extreme.predictions.csv\")"
   ]
  },
  {
   "cell_type": "code",
   "execution_count": 23,
   "metadata": {},
   "outputs": [
    {
     "data": {
      "text/plain": [
       "(4062, 3)"
      ]
     },
     "execution_count": 23,
     "metadata": {},
     "output_type": "execute_result"
    }
   ],
   "source": [
    "ic_extreme_results = results[results['id'].str.contains('ic')]\n",
    "ic_extreme_results = ic_extreme_results[ic_extreme_results['no'] >= ic_extreme_results['no'].quantile(.9)]\n",
    "ic_extreme_results.shape"
   ]
  },
  {
   "cell_type": "code",
   "execution_count": 69,
   "metadata": {},
   "outputs": [],
   "source": [
    "ic_extreme_results.to_csv(\"/media/pgdrive/sharif/exosomians/data/bams/deepbind.ic.extreme.predictions.csv\")"
   ]
  },
  {
   "cell_type": "code",
   "execution_count": 24,
   "metadata": {},
   "outputs": [
    {
     "data": {
      "text/plain": [
       "id\n",
       "chr1_10381_10400_+_ev    AUUGGGAUUGGGGAUUGGGG\n",
       "chr1_21635_21653_+_ev     GUCCCGUUUCGAGGGAGUC\n",
       "chr1_56712_56730_+_ev     UUUGUUUACGGUGACAUUU\n",
       "chr1_85224_85242_+_ev     AUUUGAAUUUUUCUAACUU\n",
       "chr1_92412_92430_-_ev     UCAGCUCUUUAUUUGAUUG\n",
       "Name: seq, dtype: object"
      ]
     },
     "execution_count": 24,
     "metadata": {},
     "output_type": "execute_result"
    }
   ],
   "source": [
    "ev_extreme_sequences = raw_df.loc[ev_extreme_results['id'], 'seq']\n",
    "ev_extreme_sequences.head()"
   ]
  },
  {
   "cell_type": "code",
   "execution_count": 25,
   "metadata": {},
   "outputs": [
    {
     "data": {
      "text/plain": [
       "id\n",
       "chr3_175356796_175356818_+_ic    CUCCUACGUACUACUUCUGGACA\n",
       "chr6_22766836_22766857_+_ic       UUAUGUACUUCGGCACAUCGCC\n",
       "chr19_31189049_31189071_-_ic     UAGAUAUAAAGUUGUUCAUAGCA\n",
       "chr7_101775745_101775765_+_ic      UACUGUACUCGGUGACGUGGA\n",
       "chr10_31951106_31951127_+_ic      UACUCUACUUGGGAUAGAAACA\n",
       "Name: seq, dtype: object"
      ]
     },
     "execution_count": 25,
     "metadata": {},
     "output_type": "execute_result"
    }
   ],
   "source": [
    "ic_extreme_sequences = raw_df.loc[ic_extreme_results['id'], 'seq']\n",
    "ic_extreme_sequences.head()"
   ]
  },
  {
   "cell_type": "code",
   "execution_count": 26,
   "metadata": {},
   "outputs": [
    {
     "data": {
      "text/plain": [
       "(4023, 50, 4)"
      ]
     },
     "execution_count": 26,
     "metadata": {},
     "output_type": "execute_result"
    }
   ],
   "source": [
    "ev_extreme_sequences_encoded = exoNet.pep.seq_encoder(ev_extreme_sequences, char_encoder, 50, unknown_char=True)\n",
    "ev_extreme_sequences_encoded.shape"
   ]
  },
  {
   "cell_type": "code",
   "execution_count": 27,
   "metadata": {},
   "outputs": [
    {
     "data": {
      "text/plain": [
       "(4062, 50, 4)"
      ]
     },
     "execution_count": 27,
     "metadata": {},
     "output_type": "execute_result"
    }
   ],
   "source": [
    "ic_extreme_sequences_encoded = exoNet.pep.seq_encoder(ic_extreme_sequences, char_encoder, 50, unknown_char=True)\n",
    "ic_extreme_sequences_encoded.shape"
   ]
  },
  {
   "cell_type": "code",
   "execution_count": 34,
   "metadata": {},
   "outputs": [],
   "source": [
    "from keras.models import Model"
   ]
  },
  {
   "cell_type": "code",
   "execution_count": 39,
   "metadata": {},
   "outputs": [
    {
     "name": "stdout",
     "output_type": "stream",
     "text": [
      "_________________________________________________________________\n",
      "Layer (type)                 Output Shape              Param #   \n",
      "=================================================================\n",
      "data (InputLayer)            (None, 50, 4)             0         \n",
      "_________________________________________________________________\n",
      "conv1d_1 (Conv1D)            (None, 41, 32)            1280      \n",
      "_________________________________________________________________\n",
      "batch_normalization_1 (Batch (None, 41, 32)            128       \n",
      "_________________________________________________________________\n",
      "re_lu_1 (ReLU)               (None, 41, 32)            0         \n",
      "=================================================================\n",
      "Total params: 1,408\n",
      "Trainable params: 1,344\n",
      "Non-trainable params: 64\n",
      "_________________________________________________________________\n"
     ]
    }
   ],
   "source": [
    "conv_model = Model(network.model.inputs, network.model.layers[3].output)\n",
    "conv_model.summary()"
   ]
  },
  {
   "cell_type": "code",
   "execution_count": 54,
   "metadata": {},
   "outputs": [
    {
     "data": {
      "text/plain": [
       "True"
      ]
     },
     "execution_count": 54,
     "metadata": {},
     "output_type": "execute_result"
    }
   ],
   "source": [
    "np.array_equal(network.model.layers[1].get_weights()[0], conv_model.layers[1].get_weights()[0])"
   ]
  },
  {
   "cell_type": "code",
   "execution_count": 55,
   "metadata": {},
   "outputs": [
    {
     "data": {
      "text/plain": [
       "(40221, 41, 32)"
      ]
     },
     "execution_count": 55,
     "metadata": {},
     "output_type": "execute_result"
    }
   ],
   "source": [
    "positive_motif_scores = conv_model.predict(ev_extreme_sequences_encoded)\n",
    "positive_motif_scores.shape"
   ]
  },
  {
   "cell_type": "code",
   "execution_count": 56,
   "metadata": {},
   "outputs": [
    {
     "data": {
      "text/plain": [
       "(40620, 41, 32)"
      ]
     },
     "execution_count": 56,
     "metadata": {},
     "output_type": "execute_result"
    }
   ],
   "source": [
    "negative_motif_scores = conv_model.predict(ic_extreme_sequences_encoded)\n",
    "negative_motif_scores.shape"
   ]
  },
  {
   "cell_type": "code",
   "execution_count": 57,
   "metadata": {},
   "outputs": [
    {
     "data": {
      "text/plain": [
       "(32, 10, 4)"
      ]
     },
     "execution_count": 57,
     "metadata": {},
     "output_type": "execute_result"
    }
   ],
   "source": [
    "positive_pfm = exoNet.pop.compute_pfm(ev_extreme_sequences_encoded, positive_motif_scores)\n",
    "positive_pfm.shape"
   ]
  },
  {
   "cell_type": "code",
   "execution_count": 58,
   "metadata": {},
   "outputs": [
    {
     "data": {
      "text/plain": [
       "(32, 10, 4)"
      ]
     },
     "execution_count": 58,
     "metadata": {},
     "output_type": "execute_result"
    }
   ],
   "source": [
    "negative_pfm = exoNet.pop.compute_pfm(ic_extreme_sequences_encoded, negative_motif_scores)\n",
    "negative_pfm.shape"
   ]
  },
  {
   "cell_type": "code",
   "execution_count": 59,
   "metadata": {},
   "outputs": [],
   "source": [
    "np.save(arr=positive_pfm, file=\"/media/pgdrive/sharif/exosomians/data/bams/deepbind.pos.all.pfm.shortened.npy\")"
   ]
  },
  {
   "cell_type": "code",
   "execution_count": 60,
   "metadata": {},
   "outputs": [],
   "source": [
    "np.save(arr=negative_pfm, file=\"/media/pgdrive/sharif/exosomians/data/bams/deepbind.neg.all.pfm.shortened.npy\")"
   ]
  },
  {
   "cell_type": "code",
   "execution_count": 47,
   "metadata": {},
   "outputs": [],
   "source": [
    "results.to_csv(\"./final.deepbind.result.mat.shortened.csv\")"
   ]
  },
  {
   "cell_type": "code",
   "execution_count": 28,
   "metadata": {},
   "outputs": [
    {
     "data": {
      "text/plain": [
       "(4023, 3)"
      ]
     },
     "execution_count": 28,
     "metadata": {},
     "output_type": "execute_result"
    }
   ],
   "source": [
    "ev_extreme_results = results[results['id'].str.contains('ev')]\n",
    "ev_extreme_results = ev_extreme_results[ev_extreme_results['yes'] >= ev_extreme_results['yes'].quantile(.90)]\n",
    "ev_extreme_results.shape"
   ]
  },
  {
   "cell_type": "code",
   "execution_count": 29,
   "metadata": {},
   "outputs": [
    {
     "data": {
      "text/plain": [
       "(4062, 3)"
      ]
     },
     "execution_count": 29,
     "metadata": {},
     "output_type": "execute_result"
    }
   ],
   "source": [
    "ic_extreme_results = results[results['id'].str.contains('ic')]\n",
    "ic_extreme_results = ic_extreme_results[ic_extreme_results['no'] >= ic_extreme_results['no'].quantile(.90)]\n",
    "ic_extreme_results.shape"
   ]
  },
  {
   "cell_type": "code",
   "execution_count": 32,
   "metadata": {},
   "outputs": [],
   "source": [
    "ev_extreme_results.to_csv(\"/media/pgdrive/sharif/exosomians/data/bams/deepbind.ev.extremes.predictions.csv\")"
   ]
  },
  {
   "cell_type": "code",
   "execution_count": 30,
   "metadata": {},
   "outputs": [],
   "source": [
    "network.label_encoder = {\"NO\": 0, \"YES\": 1}"
   ]
  },
  {
   "cell_type": "code",
   "execution_count": 31,
   "metadata": {},
   "outputs": [
    {
     "data": {
      "text/plain": [
       "(4023, 50, 4)"
      ]
     },
     "execution_count": 31,
     "metadata": {},
     "output_type": "execute_result"
    }
   ],
   "source": [
    "ev_extreme_sequences_encoded.shape"
   ]
  },
  {
   "cell_type": "code",
   "execution_count": 32,
   "metadata": {},
   "outputs": [],
   "source": [
    "ev_extreme_labels = np.array(['YES'] * ev_extreme_sequences_encoded.shape[0])\n",
    "ic_extreme_labels = np.array(['NO'] * ic_extreme_sequences_encoded.shape[0])"
   ]
  },
  {
   "cell_type": "code",
   "execution_count": 81,
   "metadata": {},
   "outputs": [],
   "source": [
    "for idx, layer in enumerate(network.model.layers):\n",
    "    layer.name = f\"name-{idx}\""
   ]
  },
  {
   "cell_type": "code",
   "execution_count": 85,
   "metadata": {},
   "outputs": [],
   "source": [
    "network.model.name = \"mohsen-model\""
   ]
  },
  {
   "cell_type": "code",
   "execution_count": 87,
   "metadata": {},
   "outputs": [],
   "source": [
    "import tensorflow as tf"
   ]
  },
  {
   "cell_type": "code",
   "execution_count": 40,
   "metadata": {},
   "outputs": [],
   "source": [
    "ev_baseline = np.mean(ic_extreme_sequences_encoded, axis=0)\n",
    "ic_baseline = np.mean(ev_extreme_sequences_encoded, axis=0)"
   ]
  },
  {
   "cell_type": "code",
   "execution_count": 44,
   "metadata": {},
   "outputs": [],
   "source": [
    "ev_extreme_deeplift = exoNet.pop.interpret(network, ev_extreme_sequences_encoded, ev_extreme_labels, method='DeepLIFT', baseline=ev_baseline)\n",
    "ic_extreme_deeplift = exoNet.pop.interpret(network, ic_extreme_sequences_encoded, ic_extreme_labels, method='DeepLIFT', baseline=ic_baseline)"
   ]
  },
  {
   "cell_type": "code",
   "execution_count": 45,
   "metadata": {},
   "outputs": [],
   "source": [
    "np.save(file=\"/media/pgdrive/sharif/exosomians/data/bams/deepbind.ev.extreme.deeplift.shortened.pkl\", arr=ev_extreme_deeplift)\n",
    "np.save(file=\"/media/pgdrive/sharif/exosomians/data/bams/deepbind.ic.extreme.deeplift.shortened.pkl\", arr=ic_extreme_deeplift)"
   ]
  },
  {
   "cell_type": "code",
   "execution_count": 48,
   "metadata": {},
   "outputs": [],
   "source": [
    "ev_extreme_deeptaylor = exoNet.pop.interpret(network, ev_extreme_sequences_encoded, ev_extreme_labels, method=\"DeepTaylor\")\n",
    "ic_extreme_deeptaylor = exoNet.pop.interpret(network, ic_extreme_sequences_encoded, ic_extreme_labels, method=\"DeepTaylor\")"
   ]
  },
  {
   "cell_type": "code",
   "execution_count": 49,
   "metadata": {},
   "outputs": [],
   "source": [
    "np.save(file=\"/media/pgdrive/sharif/exosomians/data/bams/deepbind.ev.extreme.deeptaylor.shortened.pkl\", arr=ev_extreme_deeptaylor)\n",
    "np.save(file=\"/media/pgdrive/sharif/exosomians/data/bams/deepbind.ic.extreme.deeptaylor.shortened.pkl\", arr=ic_extreme_deeptaylor)"
   ]
  },
  {
   "cell_type": "code",
   "execution_count": 72,
   "metadata": {},
   "outputs": [
    {
     "data": {
      "text/plain": [
       "array([[0.00607364, 0.        , 0.        , 0.        ],\n",
       "       [0.        , 0.        , 0.        , 0.        ],\n",
       "       [0.        , 0.        , 0.        , 0.00884957],\n",
       "       [0.        , 0.        , 0.00386993, 0.        ],\n",
       "       [0.        , 0.        , 0.01440077, 0.        ],\n",
       "       [0.        , 0.        , 0.00809197, 0.        ],\n",
       "       [0.05417186, 0.        , 0.        , 0.        ],\n",
       "       [0.        , 0.        , 0.        , 0.00903742],\n",
       "       [0.        , 0.        , 0.        , 0.03092203],\n",
       "       [0.        , 0.        , 0.04176026, 0.        ],\n",
       "       [0.        , 0.        , 0.01474026, 0.        ],\n",
       "       [0.        , 0.        , 0.0270181 , 0.        ],\n",
       "       [0.        , 0.        , 0.01202146, 0.        ],\n",
       "       [0.03289767, 0.        , 0.        , 0.        ],\n",
       "       [0.        , 0.        , 0.        , 0.03975287],\n",
       "       [0.        , 0.        , 0.        , 0.1966001 ],\n",
       "       [0.        , 0.        , 0.09341811, 0.        ],\n",
       "       [0.        , 0.        , 0.1181184 , 0.        ],\n",
       "       [0.        , 0.        , 0.16314669, 0.        ],\n",
       "       [0.        , 0.        , 0.24532117, 0.        ],\n",
       "       [0.        , 0.        , 0.        , 0.        ]], dtype=float32)"
      ]
     },
     "execution_count": 72,
     "metadata": {},
     "output_type": "execute_result"
    }
   ],
   "source": [
    "ev_extreme_deeptaylor[0, :21]"
   ]
  },
  {
   "cell_type": "code",
   "execution_count": null,
   "metadata": {},
   "outputs": [],
   "source": []
  }
 ],
 "metadata": {
  "kernelspec": {
   "display_name": "Python 3",
   "language": "python",
   "name": "python3"
  },
  "language_info": {
   "codemirror_mode": {
    "name": "ipython",
    "version": 3
   },
   "file_extension": ".py",
   "mimetype": "text/x-python",
   "name": "python",
   "nbconvert_exporter": "python",
   "pygments_lexer": "ipython3",
   "version": "3.7.3"
  }
 },
 "nbformat": 4,
 "nbformat_minor": 4
}
