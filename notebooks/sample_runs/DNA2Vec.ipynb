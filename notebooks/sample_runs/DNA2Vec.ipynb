{
 "cells": [
  {
   "cell_type": "code",
   "execution_count": 1,
   "metadata": {},
   "outputs": [],
   "source": [
    "import os\n",
    "os.chdir(\"/media/pgdrive/sharif/exosomians/apps/dna2vec/\")"
   ]
  },
  {
   "cell_type": "code",
   "execution_count": 2,
   "metadata": {},
   "outputs": [],
   "source": [
    "filepath = 'pretrained/dna2vec-20161219-0153-k3to8-100d-10c-29320Mbp-sliding-Xat.w2v'"
   ]
  },
  {
   "cell_type": "code",
   "execution_count": 3,
   "metadata": {},
   "outputs": [],
   "source": [
    "import numpy as np\n",
    "import pandas as pd"
   ]
  },
  {
   "cell_type": "code",
   "execution_count": 4,
   "metadata": {},
   "outputs": [
    {
     "data": {
      "text/html": [
       "<div>\n",
       "<style scoped>\n",
       "    .dataframe tbody tr th:only-of-type {\n",
       "        vertical-align: middle;\n",
       "    }\n",
       "\n",
       "    .dataframe tbody tr th {\n",
       "        vertical-align: top;\n",
       "    }\n",
       "\n",
       "    .dataframe thead th {\n",
       "        text-align: right;\n",
       "    }\n",
       "</style>\n",
       "<table border=\"1\" class=\"dataframe\">\n",
       "  <thead>\n",
       "    <tr style=\"text-align: right;\">\n",
       "      <th></th>\n",
       "      <th>0</th>\n",
       "      <th>1</th>\n",
       "      <th>2</th>\n",
       "      <th>3</th>\n",
       "      <th>4</th>\n",
       "      <th>5</th>\n",
       "      <th>6</th>\n",
       "      <th>7</th>\n",
       "      <th>8</th>\n",
       "      <th>9</th>\n",
       "      <th>...</th>\n",
       "      <th>91</th>\n",
       "      <th>92</th>\n",
       "      <th>93</th>\n",
       "      <th>94</th>\n",
       "      <th>95</th>\n",
       "      <th>96</th>\n",
       "      <th>97</th>\n",
       "      <th>98</th>\n",
       "      <th>99</th>\n",
       "      <th>100</th>\n",
       "    </tr>\n",
       "  </thead>\n",
       "  <tbody>\n",
       "    <tr>\n",
       "      <th>0</th>\n",
       "      <td>AAA</td>\n",
       "      <td>0.023137</td>\n",
       "      <td>0.156295</td>\n",
       "      <td>-0.247631</td>\n",
       "      <td>-0.334389</td>\n",
       "      <td>-0.192204</td>\n",
       "      <td>0.041053</td>\n",
       "      <td>-0.206709</td>\n",
       "      <td>-0.058753</td>\n",
       "      <td>-0.003430</td>\n",
       "      <td>...</td>\n",
       "      <td>0.011774</td>\n",
       "      <td>-0.439599</td>\n",
       "      <td>0.132215</td>\n",
       "      <td>0.006397</td>\n",
       "      <td>0.377873</td>\n",
       "      <td>-0.246037</td>\n",
       "      <td>-0.249183</td>\n",
       "      <td>-0.186283</td>\n",
       "      <td>-0.214482</td>\n",
       "      <td>0.115684</td>\n",
       "    </tr>\n",
       "    <tr>\n",
       "      <th>1</th>\n",
       "      <td>TTT</td>\n",
       "      <td>-0.131944</td>\n",
       "      <td>0.261046</td>\n",
       "      <td>0.243856</td>\n",
       "      <td>-0.358977</td>\n",
       "      <td>-0.228484</td>\n",
       "      <td>0.064743</td>\n",
       "      <td>0.020165</td>\n",
       "      <td>-0.172299</td>\n",
       "      <td>0.014633</td>\n",
       "      <td>...</td>\n",
       "      <td>-0.458073</td>\n",
       "      <td>-0.082711</td>\n",
       "      <td>-0.298081</td>\n",
       "      <td>-0.011121</td>\n",
       "      <td>0.137201</td>\n",
       "      <td>0.015044</td>\n",
       "      <td>0.119898</td>\n",
       "      <td>-0.065902</td>\n",
       "      <td>-0.336137</td>\n",
       "      <td>-0.437025</td>\n",
       "    </tr>\n",
       "    <tr>\n",
       "      <th>2</th>\n",
       "      <td>ATT</td>\n",
       "      <td>-0.293142</td>\n",
       "      <td>0.042175</td>\n",
       "      <td>0.189936</td>\n",
       "      <td>-0.407153</td>\n",
       "      <td>-0.108049</td>\n",
       "      <td>0.183270</td>\n",
       "      <td>-0.145125</td>\n",
       "      <td>0.047347</td>\n",
       "      <td>0.138047</td>\n",
       "      <td>...</td>\n",
       "      <td>-0.273629</td>\n",
       "      <td>-0.315894</td>\n",
       "      <td>0.064112</td>\n",
       "      <td>0.128925</td>\n",
       "      <td>0.134992</td>\n",
       "      <td>-0.284556</td>\n",
       "      <td>-0.002479</td>\n",
       "      <td>-0.278515</td>\n",
       "      <td>-0.091862</td>\n",
       "      <td>0.072312</td>\n",
       "    </tr>\n",
       "    <tr>\n",
       "      <th>3</th>\n",
       "      <td>AAT</td>\n",
       "      <td>-0.071478</td>\n",
       "      <td>0.134554</td>\n",
       "      <td>0.393494</td>\n",
       "      <td>0.058805</td>\n",
       "      <td>-0.178822</td>\n",
       "      <td>-0.000815</td>\n",
       "      <td>-0.198287</td>\n",
       "      <td>-0.166544</td>\n",
       "      <td>0.080769</td>\n",
       "      <td>...</td>\n",
       "      <td>0.010639</td>\n",
       "      <td>-0.349376</td>\n",
       "      <td>-0.322547</td>\n",
       "      <td>-0.231497</td>\n",
       "      <td>0.323402</td>\n",
       "      <td>0.116871</td>\n",
       "      <td>-0.238704</td>\n",
       "      <td>-0.408612</td>\n",
       "      <td>0.089434</td>\n",
       "      <td>-0.157059</td>\n",
       "    </tr>\n",
       "    <tr>\n",
       "      <th>4</th>\n",
       "      <td>TCT</td>\n",
       "      <td>-0.451543</td>\n",
       "      <td>0.320998</td>\n",
       "      <td>-0.154742</td>\n",
       "      <td>-0.030720</td>\n",
       "      <td>-0.158866</td>\n",
       "      <td>0.270500</td>\n",
       "      <td>0.080876</td>\n",
       "      <td>0.079692</td>\n",
       "      <td>0.140700</td>\n",
       "      <td>...</td>\n",
       "      <td>-0.198520</td>\n",
       "      <td>-0.000770</td>\n",
       "      <td>-0.305973</td>\n",
       "      <td>-0.063102</td>\n",
       "      <td>0.075172</td>\n",
       "      <td>0.005070</td>\n",
       "      <td>0.053961</td>\n",
       "      <td>-0.016334</td>\n",
       "      <td>-0.150159</td>\n",
       "      <td>-0.301229</td>\n",
       "    </tr>\n",
       "  </tbody>\n",
       "</table>\n",
       "<p>5 rows × 101 columns</p>\n",
       "</div>"
      ],
      "text/plain": [
       "   0         1         2         3         4         5         6         7    \\\n",
       "0  AAA  0.023137  0.156295 -0.247631 -0.334389 -0.192204  0.041053 -0.206709   \n",
       "1  TTT -0.131944  0.261046  0.243856 -0.358977 -0.228484  0.064743  0.020165   \n",
       "2  ATT -0.293142  0.042175  0.189936 -0.407153 -0.108049  0.183270 -0.145125   \n",
       "3  AAT -0.071478  0.134554  0.393494  0.058805 -0.178822 -0.000815 -0.198287   \n",
       "4  TCT -0.451543  0.320998 -0.154742 -0.030720 -0.158866  0.270500  0.080876   \n",
       "\n",
       "        8         9    ...       91        92        93        94        95   \\\n",
       "0 -0.058753 -0.003430  ...  0.011774 -0.439599  0.132215  0.006397  0.377873   \n",
       "1 -0.172299  0.014633  ... -0.458073 -0.082711 -0.298081 -0.011121  0.137201   \n",
       "2  0.047347  0.138047  ... -0.273629 -0.315894  0.064112  0.128925  0.134992   \n",
       "3 -0.166544  0.080769  ...  0.010639 -0.349376 -0.322547 -0.231497  0.323402   \n",
       "4  0.079692  0.140700  ... -0.198520 -0.000770 -0.305973 -0.063102  0.075172   \n",
       "\n",
       "        96        97        98        99        100  \n",
       "0 -0.246037 -0.249183 -0.186283 -0.214482  0.115684  \n",
       "1  0.015044  0.119898 -0.065902 -0.336137 -0.437025  \n",
       "2 -0.284556 -0.002479 -0.278515 -0.091862  0.072312  \n",
       "3  0.116871 -0.238704 -0.408612  0.089434 -0.157059  \n",
       "4  0.005070  0.053961 -0.016334 -0.150159 -0.301229  \n",
       "\n",
       "[5 rows x 101 columns]"
      ]
     },
     "execution_count": 4,
     "metadata": {},
     "output_type": "execute_result"
    }
   ],
   "source": [
    "df = pd.read_csv(\"pretrained/dna2vec-20161219-0153-k3to8-100d-10c-29320Mbp-sliding-Xat-2.w2v\", delimiter=' ', header=None)\n",
    "df.head()"
   ]
  },
  {
   "cell_type": "code",
   "execution_count": 5,
   "metadata": {},
   "outputs": [],
   "source": [
    "kmers = df[0].values"
   ]
  },
  {
   "cell_type": "code",
   "execution_count": 6,
   "metadata": {},
   "outputs": [
    {
     "data": {
      "text/plain": [
       "(87360, 100)"
      ]
     },
     "execution_count": 6,
     "metadata": {},
     "output_type": "execute_result"
    }
   ],
   "source": [
    "embeddings = df.iloc[:, 1:].values\n",
    "embeddings.shape"
   ]
  },
  {
   "cell_type": "code",
   "execution_count": 7,
   "metadata": {},
   "outputs": [
    {
     "data": {
      "text/html": [
       "<div>\n",
       "<style scoped>\n",
       "    .dataframe tbody tr th:only-of-type {\n",
       "        vertical-align: middle;\n",
       "    }\n",
       "\n",
       "    .dataframe tbody tr th {\n",
       "        vertical-align: top;\n",
       "    }\n",
       "\n",
       "    .dataframe thead th {\n",
       "        text-align: right;\n",
       "    }\n",
       "</style>\n",
       "<table border=\"1\" class=\"dataframe\">\n",
       "  <thead>\n",
       "    <tr style=\"text-align: right;\">\n",
       "      <th></th>\n",
       "      <th>0</th>\n",
       "      <th>1</th>\n",
       "      <th>2</th>\n",
       "      <th>3</th>\n",
       "      <th>4</th>\n",
       "      <th>5</th>\n",
       "      <th>6</th>\n",
       "      <th>7</th>\n",
       "      <th>8</th>\n",
       "      <th>9</th>\n",
       "      <th>...</th>\n",
       "      <th>91</th>\n",
       "      <th>92</th>\n",
       "      <th>93</th>\n",
       "      <th>94</th>\n",
       "      <th>95</th>\n",
       "      <th>96</th>\n",
       "      <th>97</th>\n",
       "      <th>98</th>\n",
       "      <th>99</th>\n",
       "      <th>100</th>\n",
       "    </tr>\n",
       "    <tr>\n",
       "      <th>0</th>\n",
       "      <th></th>\n",
       "      <th></th>\n",
       "      <th></th>\n",
       "      <th></th>\n",
       "      <th></th>\n",
       "      <th></th>\n",
       "      <th></th>\n",
       "      <th></th>\n",
       "      <th></th>\n",
       "      <th></th>\n",
       "      <th></th>\n",
       "      <th></th>\n",
       "      <th></th>\n",
       "      <th></th>\n",
       "      <th></th>\n",
       "      <th></th>\n",
       "      <th></th>\n",
       "      <th></th>\n",
       "      <th></th>\n",
       "      <th></th>\n",
       "      <th></th>\n",
       "    </tr>\n",
       "  </thead>\n",
       "  <tbody>\n",
       "    <tr>\n",
       "      <th>AAA</th>\n",
       "      <td>AAA</td>\n",
       "      <td>0.023137</td>\n",
       "      <td>0.156295</td>\n",
       "      <td>-0.247631</td>\n",
       "      <td>-0.334389</td>\n",
       "      <td>-0.192204</td>\n",
       "      <td>0.041053</td>\n",
       "      <td>-0.206709</td>\n",
       "      <td>-0.058753</td>\n",
       "      <td>-0.003430</td>\n",
       "      <td>...</td>\n",
       "      <td>0.011774</td>\n",
       "      <td>-0.439599</td>\n",
       "      <td>0.132215</td>\n",
       "      <td>0.006397</td>\n",
       "      <td>0.377873</td>\n",
       "      <td>-0.246037</td>\n",
       "      <td>-0.249183</td>\n",
       "      <td>-0.186283</td>\n",
       "      <td>-0.214482</td>\n",
       "      <td>0.115684</td>\n",
       "    </tr>\n",
       "    <tr>\n",
       "      <th>TTT</th>\n",
       "      <td>TTT</td>\n",
       "      <td>-0.131944</td>\n",
       "      <td>0.261046</td>\n",
       "      <td>0.243856</td>\n",
       "      <td>-0.358977</td>\n",
       "      <td>-0.228484</td>\n",
       "      <td>0.064743</td>\n",
       "      <td>0.020165</td>\n",
       "      <td>-0.172299</td>\n",
       "      <td>0.014633</td>\n",
       "      <td>...</td>\n",
       "      <td>-0.458073</td>\n",
       "      <td>-0.082711</td>\n",
       "      <td>-0.298081</td>\n",
       "      <td>-0.011121</td>\n",
       "      <td>0.137201</td>\n",
       "      <td>0.015044</td>\n",
       "      <td>0.119898</td>\n",
       "      <td>-0.065902</td>\n",
       "      <td>-0.336137</td>\n",
       "      <td>-0.437025</td>\n",
       "    </tr>\n",
       "    <tr>\n",
       "      <th>ATT</th>\n",
       "      <td>ATT</td>\n",
       "      <td>-0.293142</td>\n",
       "      <td>0.042175</td>\n",
       "      <td>0.189936</td>\n",
       "      <td>-0.407153</td>\n",
       "      <td>-0.108049</td>\n",
       "      <td>0.183270</td>\n",
       "      <td>-0.145125</td>\n",
       "      <td>0.047347</td>\n",
       "      <td>0.138047</td>\n",
       "      <td>...</td>\n",
       "      <td>-0.273629</td>\n",
       "      <td>-0.315894</td>\n",
       "      <td>0.064112</td>\n",
       "      <td>0.128925</td>\n",
       "      <td>0.134992</td>\n",
       "      <td>-0.284556</td>\n",
       "      <td>-0.002479</td>\n",
       "      <td>-0.278515</td>\n",
       "      <td>-0.091862</td>\n",
       "      <td>0.072312</td>\n",
       "    </tr>\n",
       "    <tr>\n",
       "      <th>AAT</th>\n",
       "      <td>AAT</td>\n",
       "      <td>-0.071478</td>\n",
       "      <td>0.134554</td>\n",
       "      <td>0.393494</td>\n",
       "      <td>0.058805</td>\n",
       "      <td>-0.178822</td>\n",
       "      <td>-0.000815</td>\n",
       "      <td>-0.198287</td>\n",
       "      <td>-0.166544</td>\n",
       "      <td>0.080769</td>\n",
       "      <td>...</td>\n",
       "      <td>0.010639</td>\n",
       "      <td>-0.349376</td>\n",
       "      <td>-0.322547</td>\n",
       "      <td>-0.231497</td>\n",
       "      <td>0.323402</td>\n",
       "      <td>0.116871</td>\n",
       "      <td>-0.238704</td>\n",
       "      <td>-0.408612</td>\n",
       "      <td>0.089434</td>\n",
       "      <td>-0.157059</td>\n",
       "    </tr>\n",
       "    <tr>\n",
       "      <th>TCT</th>\n",
       "      <td>TCT</td>\n",
       "      <td>-0.451543</td>\n",
       "      <td>0.320998</td>\n",
       "      <td>-0.154742</td>\n",
       "      <td>-0.030720</td>\n",
       "      <td>-0.158866</td>\n",
       "      <td>0.270500</td>\n",
       "      <td>0.080876</td>\n",
       "      <td>0.079692</td>\n",
       "      <td>0.140700</td>\n",
       "      <td>...</td>\n",
       "      <td>-0.198520</td>\n",
       "      <td>-0.000770</td>\n",
       "      <td>-0.305973</td>\n",
       "      <td>-0.063102</td>\n",
       "      <td>0.075172</td>\n",
       "      <td>0.005070</td>\n",
       "      <td>0.053961</td>\n",
       "      <td>-0.016334</td>\n",
       "      <td>-0.150159</td>\n",
       "      <td>-0.301229</td>\n",
       "    </tr>\n",
       "  </tbody>\n",
       "</table>\n",
       "<p>5 rows × 101 columns</p>\n",
       "</div>"
      ],
      "text/plain": [
       "     0         1         2         3         4         5         6    \\\n",
       "0                                                                      \n",
       "AAA  AAA  0.023137  0.156295 -0.247631 -0.334389 -0.192204  0.041053   \n",
       "TTT  TTT -0.131944  0.261046  0.243856 -0.358977 -0.228484  0.064743   \n",
       "ATT  ATT -0.293142  0.042175  0.189936 -0.407153 -0.108049  0.183270   \n",
       "AAT  AAT -0.071478  0.134554  0.393494  0.058805 -0.178822 -0.000815   \n",
       "TCT  TCT -0.451543  0.320998 -0.154742 -0.030720 -0.158866  0.270500   \n",
       "\n",
       "          7         8         9    ...       91        92        93   \\\n",
       "0                                  ...                                 \n",
       "AAA -0.206709 -0.058753 -0.003430  ...  0.011774 -0.439599  0.132215   \n",
       "TTT  0.020165 -0.172299  0.014633  ... -0.458073 -0.082711 -0.298081   \n",
       "ATT -0.145125  0.047347  0.138047  ... -0.273629 -0.315894  0.064112   \n",
       "AAT -0.198287 -0.166544  0.080769  ...  0.010639 -0.349376 -0.322547   \n",
       "TCT  0.080876  0.079692  0.140700  ... -0.198520 -0.000770 -0.305973   \n",
       "\n",
       "          94        95        96        97        98        99        100  \n",
       "0                                                                          \n",
       "AAA  0.006397  0.377873 -0.246037 -0.249183 -0.186283 -0.214482  0.115684  \n",
       "TTT -0.011121  0.137201  0.015044  0.119898 -0.065902 -0.336137 -0.437025  \n",
       "ATT  0.128925  0.134992 -0.284556 -0.002479 -0.278515 -0.091862  0.072312  \n",
       "AAT -0.231497  0.323402  0.116871 -0.238704 -0.408612  0.089434 -0.157059  \n",
       "TCT -0.063102  0.075172  0.005070  0.053961 -0.016334 -0.150159 -0.301229  \n",
       "\n",
       "[5 rows x 101 columns]"
      ]
     },
     "execution_count": 7,
     "metadata": {},
     "output_type": "execute_result"
    }
   ],
   "source": [
    "df.index = df[0]\n",
    "df.head()"
   ]
  },
  {
   "cell_type": "code",
   "execution_count": 8,
   "metadata": {},
   "outputs": [],
   "source": [
    "df.drop([0], axis=1, inplace=True)"
   ]
  },
  {
   "cell_type": "code",
   "execution_count": 9,
   "metadata": {},
   "outputs": [],
   "source": [
    "dna2vec_temp = df.to_dict('index')"
   ]
  },
  {
   "cell_type": "code",
   "execution_count": 10,
   "metadata": {},
   "outputs": [],
   "source": [
    "dna2vec = {}\n",
    "for kmer, value_dict in dna2vec_temp.items():\n",
    "    dna2vec[kmer] = list(value_dict.values())"
   ]
  },
  {
   "cell_type": "code",
   "execution_count": 11,
   "metadata": {},
   "outputs": [],
   "source": [
    "ev_sequences = pd.read_csv(\"/media/pgdrive/sharif/exosomians/predictions/ExoCNN/ExoCNN.ev.extreme.90.unique.probabilities.csv\")['seq'].values\n",
    "ic_sequences = pd.read_csv(\"/media/pgdrive/sharif/exosomians/predictions/ExoCNN/ExoCNN.ic.extreme.90.unique.probabilities.csv\")['seq'].values"
   ]
  },
  {
   "cell_type": "code",
   "execution_count": 12,
   "metadata": {},
   "outputs": [],
   "source": [
    "sequences = ev_sequences"
   ]
  },
  {
   "cell_type": "code",
   "execution_count": 13,
   "metadata": {},
   "outputs": [
    {
     "data": {
      "text/plain": [
       "(3520,)"
      ]
     },
     "execution_count": 13,
     "metadata": {},
     "output_type": "execute_result"
    }
   ],
   "source": [
    "# sequences = np.concatenate([ev_sequences, ic_sequences], axis=0)\n",
    "sequences.shape"
   ]
  },
  {
   "cell_type": "code",
   "execution_count": 14,
   "metadata": {},
   "outputs": [],
   "source": [
    "n_generated_sequences_per_iteration = 5"
   ]
  },
  {
   "cell_type": "code",
   "execution_count": 15,
   "metadata": {},
   "outputs": [],
   "source": [
    "np.random.seed(42)\n",
    "seq_vecs = []\n",
    "seqs = []\n",
    "for idx, sequence in enumerate(sequences):\n",
    "    seq_len = len(sequence)\n",
    "#     print(seq_len)\n",
    "    for j in range(n_generated_sequences_per_iteration):\n",
    "        k = np.random.randint(3, 9)\n",
    "        seq_pos = 0\n",
    "        seq_vec = []\n",
    "        i = 0\n",
    "        while seq_pos < seq_len:\n",
    "            if seq_pos + k >= seq_len - 2 and seq_pos + k != seq_len:\n",
    "                k = np.random.randint(3, 9)\n",
    "                i += 1\n",
    "#                 print(idx, i, j, k, seq_pos)\n",
    "                continue\n",
    "#             print(idx, i, j, k, seq_pos)\n",
    "            kmer = sequence[seq_pos:seq_pos + k].replace(\"U\", \"T\")\n",
    "            seq_vec.append(np.array(dna2vec[kmer]))\n",
    "            seq_pos += k\n",
    "            k = np.random.randint(3, 9)\n",
    "        seq_vecs.append(np.array(seq_vec))\n",
    "        seqs.append(sequence)"
   ]
  },
  {
   "cell_type": "code",
   "execution_count": 16,
   "metadata": {},
   "outputs": [
    {
     "name": "stderr",
     "output_type": "stream",
     "text": [
      "Using TensorFlow backend.\n"
     ]
    }
   ],
   "source": [
    "from keras.preprocessing.sequence import pad_sequences"
   ]
  },
  {
   "cell_type": "code",
   "execution_count": 17,
   "metadata": {},
   "outputs": [
    {
     "data": {
      "text/plain": [
       "(17600, 16, 100)"
      ]
     },
     "execution_count": 17,
     "metadata": {},
     "output_type": "execute_result"
    }
   ],
   "source": [
    "sequences_d2v = pad_sequences(seq_vecs, dtype='float32', maxlen=16, truncating='post', padding='post', value=0.0)\n",
    "sequences_d2v.shape"
   ]
  },
  {
   "cell_type": "code",
   "execution_count": 19,
   "metadata": {},
   "outputs": [
    {
     "data": {
      "text/plain": [
       "1.987162"
      ]
     },
     "execution_count": 19,
     "metadata": {},
     "output_type": "execute_result"
    }
   ],
   "source": [
    "sequences_d2v.max()"
   ]
  },
  {
   "cell_type": "code",
   "execution_count": 20,
   "metadata": {},
   "outputs": [],
   "source": [
    "np.save(arr=sequences_d2v, file=\"/media/pgdrive/sharif/exosomians/dna2vec/dna2vec.embedding.1to5.ev.npy\")"
   ]
  },
  {
   "cell_type": "code",
   "execution_count": 21,
   "metadata": {},
   "outputs": [],
   "source": [
    "from keras import backend as K"
   ]
  },
  {
   "cell_type": "code",
   "execution_count": 22,
   "metadata": {},
   "outputs": [],
   "source": [
    "K.clear_session()"
   ]
  },
  {
   "cell_type": "code",
   "execution_count": 23,
   "metadata": {},
   "outputs": [],
   "source": [
    "from keras.layers import GRU, Dropout, Dense, Input, RepeatVector, TimeDistributed\n",
    "from keras.models import Model, Sequential\n",
    "from keras.callbacks import EarlyStopping"
   ]
  },
  {
   "cell_type": "code",
   "execution_count": 24,
   "metadata": {},
   "outputs": [
    {
     "name": "stdout",
     "output_type": "stream",
     "text": [
      "WARNING:tensorflow:From /home/mohsen/anaconda3/envs/mohsen/lib/python3.7/site-packages/tensorflow/python/framework/op_def_library.py:263: colocate_with (from tensorflow.python.framework.ops) is deprecated and will be removed in a future version.\n",
      "Instructions for updating:\n",
      "Colocations handled automatically by placer.\n"
     ]
    }
   ],
   "source": [
    "input_layer = Input(shape=(16, 100))\n",
    "x = GRU(units=32, kernel_initializer='glorot_normal', return_sequences=False)(input_layer)\n",
    "x = RepeatVector(16)(x)\n",
    "x = GRU(64, kernel_initializer='glorot_normal', return_sequences=True)(x)\n",
    "x = TimeDistributed(Dense(100, activation='linear'))(x)"
   ]
  },
  {
   "cell_type": "code",
   "execution_count": 25,
   "metadata": {},
   "outputs": [
    {
     "name": "stdout",
     "output_type": "stream",
     "text": [
      "_________________________________________________________________\n",
      "Layer (type)                 Output Shape              Param #   \n",
      "=================================================================\n",
      "input_1 (InputLayer)         (None, 16, 100)           0         \n",
      "_________________________________________________________________\n",
      "gru_1 (GRU)                  (None, 32)                12768     \n",
      "_________________________________________________________________\n",
      "repeat_vector_1 (RepeatVecto (None, 16, 32)            0         \n",
      "_________________________________________________________________\n",
      "gru_2 (GRU)                  (None, 16, 64)            18624     \n",
      "_________________________________________________________________\n",
      "time_distributed_1 (TimeDist (None, 16, 100)           6500      \n",
      "=================================================================\n",
      "Total params: 37,892\n",
      "Trainable params: 37,892\n",
      "Non-trainable params: 0\n",
      "_________________________________________________________________\n"
     ]
    }
   ],
   "source": [
    "model = Model(input_layer, x)\n",
    "model.summary()"
   ]
  },
  {
   "cell_type": "code",
   "execution_count": 26,
   "metadata": {},
   "outputs": [],
   "source": [
    "model.compile(optimizer='adam', loss='mse')"
   ]
  },
  {
   "cell_type": "code",
   "execution_count": 27,
   "metadata": {},
   "outputs": [],
   "source": [
    "early_stopping = EarlyStopping(monitor='val_loss', patience=10)"
   ]
  },
  {
   "cell_type": "code",
   "execution_count": null,
   "metadata": {},
   "outputs": [
    {
     "name": "stdout",
     "output_type": "stream",
     "text": [
      "WARNING:tensorflow:From /home/mohsen/anaconda3/envs/mohsen/lib/python3.7/site-packages/tensorflow/python/ops/math_ops.py:3066: to_int32 (from tensorflow.python.ops.math_ops) is deprecated and will be removed in a future version.\n",
      "Instructions for updating:\n",
      "Use tf.cast instead.\n",
      "Train on 13200 samples, validate on 4400 samples\n",
      "Epoch 1/500\n",
      " - 31s - loss: 0.0216 - val_loss: 0.0211\n",
      "Epoch 2/500\n",
      " - 26s - loss: 0.0204 - val_loss: 0.0204\n",
      "Epoch 3/500\n",
      " - 26s - loss: 0.0200 - val_loss: 0.0201\n",
      "Epoch 4/500\n",
      " - 26s - loss: 0.0197 - val_loss: 0.0198\n",
      "Epoch 5/500\n",
      " - 26s - loss: 0.0194 - val_loss: 0.0194\n",
      "Epoch 6/500\n",
      " - 26s - loss: 0.0190 - val_loss: 0.0191\n",
      "Epoch 7/500\n",
      " - 26s - loss: 0.0186 - val_loss: 0.0188\n",
      "Epoch 8/500\n",
      " - 26s - loss: 0.0184 - val_loss: 0.0186\n",
      "Epoch 9/500\n",
      " - 26s - loss: 0.0182 - val_loss: 0.0184\n",
      "Epoch 10/500\n",
      " - 26s - loss: 0.0180 - val_loss: 0.0182\n",
      "Epoch 11/500\n",
      " - 26s - loss: 0.0178 - val_loss: 0.0181\n",
      "Epoch 12/500\n",
      " - 26s - loss: 0.0177 - val_loss: 0.0181\n",
      "Epoch 13/500\n",
      " - 26s - loss: 0.0176 - val_loss: 0.0179\n",
      "Epoch 14/500\n",
      " - 26s - loss: 0.0175 - val_loss: 0.0178\n",
      "Epoch 15/500\n",
      " - 26s - loss: 0.0174 - val_loss: 0.0178\n",
      "Epoch 16/500\n",
      " - 26s - loss: 0.0174 - val_loss: 0.0177\n",
      "Epoch 17/500\n",
      " - 26s - loss: 0.0173 - val_loss: 0.0176\n",
      "Epoch 18/500\n",
      " - 26s - loss: 0.0172 - val_loss: 0.0176\n",
      "Epoch 19/500\n",
      " - 26s - loss: 0.0172 - val_loss: 0.0175\n",
      "Epoch 20/500\n",
      " - 26s - loss: 0.0171 - val_loss: 0.0175\n",
      "Epoch 21/500\n",
      " - 26s - loss: 0.0171 - val_loss: 0.0174\n",
      "Epoch 22/500\n",
      " - 26s - loss: 0.0170 - val_loss: 0.0174\n",
      "Epoch 23/500\n",
      " - 26s - loss: 0.0170 - val_loss: 0.0174\n",
      "Epoch 24/500\n",
      " - 26s - loss: 0.0169 - val_loss: 0.0173\n",
      "Epoch 25/500\n",
      " - 26s - loss: 0.0169 - val_loss: 0.0173\n",
      "Epoch 26/500\n",
      " - 26s - loss: 0.0169 - val_loss: 0.0172\n",
      "Epoch 27/500\n",
      " - 26s - loss: 0.0168 - val_loss: 0.0172\n",
      "Epoch 28/500\n",
      " - 26s - loss: 0.0168 - val_loss: 0.0172\n",
      "Epoch 29/500\n",
      " - 26s - loss: 0.0167 - val_loss: 0.0171\n",
      "Epoch 30/500\n",
      " - 26s - loss: 0.0167 - val_loss: 0.0171\n",
      "Epoch 31/500\n",
      " - 26s - loss: 0.0166 - val_loss: 0.0171\n",
      "Epoch 32/500\n",
      " - 26s - loss: 0.0166 - val_loss: 0.0170\n",
      "Epoch 33/500\n",
      " - 26s - loss: 0.0166 - val_loss: 0.0170\n",
      "Epoch 34/500\n",
      " - 26s - loss: 0.0165 - val_loss: 0.0170\n",
      "Epoch 35/500\n",
      " - 26s - loss: 0.0165 - val_loss: 0.0169\n",
      "Epoch 36/500\n",
      " - 26s - loss: 0.0164 - val_loss: 0.0169\n",
      "Epoch 37/500\n",
      " - 26s - loss: 0.0164 - val_loss: 0.0168\n",
      "Epoch 38/500\n",
      " - 26s - loss: 0.0164 - val_loss: 0.0168\n",
      "Epoch 39/500\n",
      " - 26s - loss: 0.0163 - val_loss: 0.0168\n",
      "Epoch 40/500\n",
      " - 26s - loss: 0.0163 - val_loss: 0.0167\n",
      "Epoch 41/500\n",
      " - 26s - loss: 0.0162 - val_loss: 0.0167\n",
      "Epoch 42/500\n",
      " - 26s - loss: 0.0162 - val_loss: 0.0167\n",
      "Epoch 43/500\n",
      " - 26s - loss: 0.0162 - val_loss: 0.0167\n",
      "Epoch 44/500\n",
      " - 26s - loss: 0.0161 - val_loss: 0.0166\n",
      "Epoch 45/500\n",
      " - 26s - loss: 0.0161 - val_loss: 0.0166\n",
      "Epoch 46/500\n",
      " - 26s - loss: 0.0161 - val_loss: 0.0166\n",
      "Epoch 47/500\n",
      " - 26s - loss: 0.0160 - val_loss: 0.0165\n",
      "Epoch 48/500\n",
      " - 26s - loss: 0.0160 - val_loss: 0.0165\n",
      "Epoch 49/500\n",
      " - 26s - loss: 0.0160 - val_loss: 0.0165\n",
      "Epoch 50/500\n"
     ]
    }
   ],
   "source": [
    "model.fit(x=sequences_d2v,\n",
    "          y=sequences_d2v,\n",
    "          batch_size=32,\n",
    "          epochs=500,\n",
    "          callbacks=[early_stopping],\n",
    "          validation_split=0.25,\n",
    "          verbose=2\n",
    "         )"
   ]
  },
  {
   "cell_type": "code",
   "execution_count": null,
   "metadata": {},
   "outputs": [],
   "source": [
    "model.layers"
   ]
  },
  {
   "cell_type": "code",
   "execution_count": null,
   "metadata": {},
   "outputs": [],
   "source": [
    "latent_model = Model(model.input, model.layers[1].output)"
   ]
  },
  {
   "cell_type": "code",
   "execution_count": null,
   "metadata": {},
   "outputs": [],
   "source": [
    "latent_data = latent_model.predict(sequences_d2v)\n",
    "latent_data.shape"
   ]
  },
  {
   "cell_type": "code",
   "execution_count": null,
   "metadata": {},
   "outputs": [],
   "source": [
    "import scanpy as sc"
   ]
  },
  {
   "cell_type": "code",
   "execution_count": null,
   "metadata": {},
   "outputs": [],
   "source": [
    "adata = sc.AnnData(X=latent_data)\n",
    "adata.obs['label'] = 'Extreme EV'\n",
    "adata"
   ]
  },
  {
   "cell_type": "code",
   "execution_count": null,
   "metadata": {},
   "outputs": [],
   "source": [
    "sc.pp.neighbors(adata)\n",
    "sc.tl.umap(adata)"
   ]
  },
  {
   "cell_type": "code",
   "execution_count": null,
   "metadata": {},
   "outputs": [],
   "source": [
    "sc.set_figure_params(dpi=300)"
   ]
  },
  {
   "cell_type": "code",
   "execution_count": null,
   "metadata": {},
   "outputs": [],
   "source": [
    "sc.pl.umap(adata, frameon=False, color='label')"
   ]
  },
  {
   "cell_type": "code",
   "execution_count": null,
   "metadata": {},
   "outputs": [],
   "source": [
    "latent_df = pd.DataFrame({\"seq\": sequences} + {f\"dim_{i}\": adata.X[:, i] for i in range(32)})\n",
    "latent_df.head()"
   ]
  },
  {
   "cell_type": "code",
   "execution_count": 69,
   "metadata": {},
   "outputs": [],
   "source": [
    "np.savetxt(\"/media/pgdrive/sharif/exosomians/dna2vec/ev.extreme.90.dna2vec.1to5.latent.csv\", X=adata.X)"
   ]
  },
  {
   "cell_type": "code",
   "execution_count": null,
   "metadata": {},
   "outputs": [],
   "source": []
  }
 ],
 "metadata": {
  "kernelspec": {
   "display_name": "Python 3",
   "language": "python",
   "name": "python3"
  },
  "language_info": {
   "codemirror_mode": {
    "name": "ipython",
    "version": 3
   },
   "file_extension": ".py",
   "mimetype": "text/x-python",
   "name": "python",
   "nbconvert_exporter": "python",
   "pygments_lexer": "ipython3",
   "version": "3.7.3"
  }
 },
 "nbformat": 4,
 "nbformat_minor": 4
}
